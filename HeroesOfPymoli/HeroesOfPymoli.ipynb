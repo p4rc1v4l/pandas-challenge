{
 "cells": [
  {
   "cell_type": "markdown",
   "metadata": {},
   "source": [
    "### Heroes Of Pymoli Data Analysis\n",
    "* Of the 1163 active players, the vast majority are male (84%). There also exists, a smaller, but notable proportion of female players (14%).\n",
    "\n",
    "* Our peak age demographic falls between 20-24 (44.8%) with secondary groups falling between 15-19 (18.60%) and 25-29 (13.4%).  \n",
    "-----"
   ]
  },
  {
   "cell_type": "markdown",
   "metadata": {},
   "source": [
    "### Note\n",
    "* Instructions have been included for each segment. You do not have to follow them exactly, but they are included to help you think through the steps."
   ]
  },
  {
   "cell_type": "code",
   "execution_count": 1,
   "metadata": {},
   "outputs": [],
   "source": [
    "# Dependencies and Setup\n",
    "import pandas as pd\n",
    "\n",
    "# File to Load (Remember to Change These)\n",
    "file_to_load = \"Resources/purchase_data.csv\"\n",
    "\n",
    "# Read Purchasing File and store into Pandas data frame\n",
    "purchases_data_df = pd.read_csv(file_to_load)"
   ]
  },
  {
   "cell_type": "markdown",
   "metadata": {},
   "source": [
    "## Player Count"
   ]
  },
  {
   "cell_type": "markdown",
   "metadata": {},
   "source": [
    "* Display the total number of players\n"
   ]
  },
  {
   "cell_type": "code",
   "execution_count": 2,
   "metadata": {},
   "outputs": [],
   "source": [
    "#purchases_data_df = purchases_data_df.set_index(\"Purchase ID\")"
   ]
  },
  {
   "cell_type": "code",
   "execution_count": 3,
   "metadata": {},
   "outputs": [
    {
     "data": {
      "text/html": [
       "<div>\n",
       "<style scoped>\n",
       "    .dataframe tbody tr th:only-of-type {\n",
       "        vertical-align: middle;\n",
       "    }\n",
       "\n",
       "    .dataframe tbody tr th {\n",
       "        vertical-align: top;\n",
       "    }\n",
       "\n",
       "    .dataframe thead th {\n",
       "        text-align: right;\n",
       "    }\n",
       "</style>\n",
       "<table border=\"1\" class=\"dataframe\">\n",
       "  <thead>\n",
       "    <tr style=\"text-align: right;\">\n",
       "      <th></th>\n",
       "      <th>Purchase ID</th>\n",
       "      <th>SN</th>\n",
       "      <th>Age</th>\n",
       "      <th>Gender</th>\n",
       "      <th>Item ID</th>\n",
       "      <th>Item Name</th>\n",
       "      <th>Price</th>\n",
       "    </tr>\n",
       "  </thead>\n",
       "  <tbody>\n",
       "    <tr>\n",
       "      <th>0</th>\n",
       "      <td>0</td>\n",
       "      <td>Lisim78</td>\n",
       "      <td>20</td>\n",
       "      <td>Male</td>\n",
       "      <td>108</td>\n",
       "      <td>Extraction, Quickblade Of Trembling Hands</td>\n",
       "      <td>3.53</td>\n",
       "    </tr>\n",
       "    <tr>\n",
       "      <th>1</th>\n",
       "      <td>1</td>\n",
       "      <td>Lisovynya38</td>\n",
       "      <td>40</td>\n",
       "      <td>Male</td>\n",
       "      <td>143</td>\n",
       "      <td>Frenzied Scimitar</td>\n",
       "      <td>1.56</td>\n",
       "    </tr>\n",
       "    <tr>\n",
       "      <th>2</th>\n",
       "      <td>2</td>\n",
       "      <td>Ithergue48</td>\n",
       "      <td>24</td>\n",
       "      <td>Male</td>\n",
       "      <td>92</td>\n",
       "      <td>Final Critic</td>\n",
       "      <td>4.88</td>\n",
       "    </tr>\n",
       "    <tr>\n",
       "      <th>3</th>\n",
       "      <td>3</td>\n",
       "      <td>Chamassasya86</td>\n",
       "      <td>24</td>\n",
       "      <td>Male</td>\n",
       "      <td>100</td>\n",
       "      <td>Blindscythe</td>\n",
       "      <td>3.27</td>\n",
       "    </tr>\n",
       "    <tr>\n",
       "      <th>4</th>\n",
       "      <td>4</td>\n",
       "      <td>Iskosia90</td>\n",
       "      <td>23</td>\n",
       "      <td>Male</td>\n",
       "      <td>131</td>\n",
       "      <td>Fury</td>\n",
       "      <td>1.44</td>\n",
       "    </tr>\n",
       "  </tbody>\n",
       "</table>\n",
       "</div>"
      ],
      "text/plain": [
       "   Purchase ID             SN  Age Gender  Item ID  \\\n",
       "0            0        Lisim78   20   Male      108   \n",
       "1            1    Lisovynya38   40   Male      143   \n",
       "2            2     Ithergue48   24   Male       92   \n",
       "3            3  Chamassasya86   24   Male      100   \n",
       "4            4      Iskosia90   23   Male      131   \n",
       "\n",
       "                                   Item Name  Price  \n",
       "0  Extraction, Quickblade Of Trembling Hands   3.53  \n",
       "1                          Frenzied Scimitar   1.56  \n",
       "2                               Final Critic   4.88  \n",
       "3                                Blindscythe   3.27  \n",
       "4                                       Fury   1.44  "
      ]
     },
     "execution_count": 3,
     "metadata": {},
     "output_type": "execute_result"
    }
   ],
   "source": [
    "purchases_data_df.head()"
   ]
  },
  {
   "cell_type": "code",
   "execution_count": 4,
   "metadata": {},
   "outputs": [
    {
     "name": "stdout",
     "output_type": "stream",
     "text": [
      "Player Count: 576\n"
     ]
    }
   ],
   "source": [
    "unique_users_df = purchases_data_df['SN'].unique()\n",
    "count_unique_users = len(unique_users_df)\n",
    "print(f'Player Count: {count_unique_users}')"
   ]
  },
  {
   "cell_type": "markdown",
   "metadata": {},
   "source": [
    "## Purchasing Analysis (Total)"
   ]
  },
  {
   "cell_type": "markdown",
   "metadata": {},
   "source": [
    "* Run basic calculations to obtain number of unique items, average price, etc.\n",
    "\n",
    "\n",
    "* Create a summary data frame to hold the results\n",
    "\n",
    "\n",
    "* Optional: give the displayed data cleaner formatting\n",
    "\n",
    "\n",
    "* Display the summary data frame\n"
   ]
  },
  {
   "cell_type": "code",
   "execution_count": 5,
   "metadata": {},
   "outputs": [
    {
     "data": {
      "text/plain": [
       "179"
      ]
     },
     "execution_count": 5,
     "metadata": {},
     "output_type": "execute_result"
    }
   ],
   "source": [
    "unique_items_df = purchases_data_df['Item ID'].unique()\n",
    "count_unique_items = len(unique_items_df)\n",
    "count_unique_items"
   ]
  },
  {
   "cell_type": "code",
   "execution_count": 6,
   "metadata": {},
   "outputs": [
    {
     "data": {
      "text/plain": [
       "3.0509871794871795"
      ]
     },
     "execution_count": 6,
     "metadata": {},
     "output_type": "execute_result"
    }
   ],
   "source": [
    "average_price = purchases_data_df['Price'].mean()\n",
    "average_price"
   ]
  },
  {
   "cell_type": "code",
   "execution_count": 7,
   "metadata": {},
   "outputs": [
    {
     "data": {
      "text/plain": [
       "780"
      ]
     },
     "execution_count": 7,
     "metadata": {},
     "output_type": "execute_result"
    }
   ],
   "source": [
    "number_of_purchases = len(purchases_data_df.index)\n",
    "number_of_purchases"
   ]
  },
  {
   "cell_type": "code",
   "execution_count": 8,
   "metadata": {},
   "outputs": [
    {
     "data": {
      "text/plain": [
       "2379.77"
      ]
     },
     "execution_count": 8,
     "metadata": {},
     "output_type": "execute_result"
    }
   ],
   "source": [
    "total_revenue = number_of_purchases * average_price\n",
    "total_revenue"
   ]
  },
  {
   "cell_type": "code",
   "execution_count": 9,
   "metadata": {},
   "outputs": [
    {
     "data": {
      "text/html": [
       "<style  type=\"text/css\" >\n",
       "</style><table id=\"T_5b7fcb04_a3a7_11ea_8d91_48bf6be0b4ca\" ><thead>    <tr>        <th class=\"blank level0\" ></th>        <th class=\"col_heading level0 col0\" >Number of Unique Items</th>        <th class=\"col_heading level0 col1\" >Average Price</th>        <th class=\"col_heading level0 col2\" >Number of Purchases</th>        <th class=\"col_heading level0 col3\" >Total Revenue</th>    </tr></thead><tbody>\n",
       "                <tr>\n",
       "                        <th id=\"T_5b7fcb04_a3a7_11ea_8d91_48bf6be0b4calevel0_row0\" class=\"row_heading level0 row0\" >0</th>\n",
       "                        <td id=\"T_5b7fcb04_a3a7_11ea_8d91_48bf6be0b4carow0_col0\" class=\"data row0 col0\" >179</td>\n",
       "                        <td id=\"T_5b7fcb04_a3a7_11ea_8d91_48bf6be0b4carow0_col1\" class=\"data row0 col1\" >$3.05</td>\n",
       "                        <td id=\"T_5b7fcb04_a3a7_11ea_8d91_48bf6be0b4carow0_col2\" class=\"data row0 col2\" >780</td>\n",
       "                        <td id=\"T_5b7fcb04_a3a7_11ea_8d91_48bf6be0b4carow0_col3\" class=\"data row0 col3\" >$2379.77</td>\n",
       "            </tr>\n",
       "    </tbody></table>"
      ],
      "text/plain": [
       "<pandas.io.formats.style.Styler at 0x112b9dcd0>"
      ]
     },
     "execution_count": 9,
     "metadata": {},
     "output_type": "execute_result"
    }
   ],
   "source": [
    "data_frame_structure = {'Number of Unique Items' : [count_unique_items], 'Average Price' : [average_price], 'Number of Purchases' : [number_of_purchases], 'Total Revenue' : [total_revenue]}\n",
    "purchasing_analysis_df = pd.DataFrame(data=data_frame_structure)\n",
    "purchasing_analysis_df = purchasing_analysis_df.style.format(\n",
    "    {\n",
    "        'Average Price': \"${:.2f}\",\n",
    "        'Total Revenue': '${:.2f}'\n",
    "    }\n",
    ")\n",
    "purchasing_analysis_df"
   ]
  },
  {
   "cell_type": "markdown",
   "metadata": {},
   "source": [
    "## Gender Demographics"
   ]
  },
  {
   "cell_type": "markdown",
   "metadata": {},
   "source": [
    "* Percentage and Count of Male Players\n",
    "\n",
    "\n",
    "* Percentage and Count of Female Players\n",
    "\n",
    "\n",
    "* Percentage and Count of Other / Non-Disclosed\n",
    "\n",
    "\n"
   ]
  },
  {
   "cell_type": "code",
   "execution_count": 10,
   "metadata": {},
   "outputs": [
    {
     "data": {
      "text/plain": [
       "484"
      ]
     },
     "execution_count": 10,
     "metadata": {},
     "output_type": "execute_result"
    }
   ],
   "source": [
    "male_players = purchases_data_df.loc[purchases_data_df['Gender'] == 'Male']\n",
    "unique_male_players = male_players['SN'].unique()\n",
    "count_unique_male_players = len(unique_male_players)\n",
    "count_unique_male_players"
   ]
  },
  {
   "cell_type": "code",
   "execution_count": 11,
   "metadata": {},
   "outputs": [
    {
     "data": {
      "text/plain": [
       "81"
      ]
     },
     "execution_count": 11,
     "metadata": {},
     "output_type": "execute_result"
    }
   ],
   "source": [
    "female_players = purchases_data_df.loc[purchases_data_df['Gender'] == 'Female']\n",
    "unique_female_players = female_players['SN'].unique()\n",
    "count_unique_female_players = len(unique_female_players)\n",
    "count_unique_female_players"
   ]
  },
  {
   "cell_type": "code",
   "execution_count": 12,
   "metadata": {},
   "outputs": [
    {
     "data": {
      "text/plain": [
       "11"
      ]
     },
     "execution_count": 12,
     "metadata": {},
     "output_type": "execute_result"
    }
   ],
   "source": [
    "other_conditonal = (purchases_data_df['Gender'] != 'Male') & (purchases_data_df['Gender'] != 'Female')\n",
    "other_players = purchases_data_df.loc[other_conditonal]\n",
    "unique_other_players = other_players['SN'].unique()\n",
    "count_unique_other_players = len(unique_other_players)\n",
    "count_unique_other_players"
   ]
  },
  {
   "cell_type": "code",
   "execution_count": 14,
   "metadata": {},
   "outputs": [
    {
     "data": {
      "text/html": [
       "<style  type=\"text/css\" >\n",
       "</style><table id=\"T_7eaab30a_a3a7_11ea_8d91_48bf6be0b4ca\" ><thead>    <tr>        <th class=\"blank level0\" ></th>        <th class=\"col_heading level0 col0\" >Total Count</th>        <th class=\"col_heading level0 col1\" >Percentage of Players</th>    </tr>    <tr>        <th class=\"index_name level0\" >Gender</th>        <th class=\"blank\" ></th>        <th class=\"blank\" ></th>    </tr></thead><tbody>\n",
       "                <tr>\n",
       "                        <th id=\"T_7eaab30a_a3a7_11ea_8d91_48bf6be0b4calevel0_row0\" class=\"row_heading level0 row0\" >Male</th>\n",
       "                        <td id=\"T_7eaab30a_a3a7_11ea_8d91_48bf6be0b4carow0_col0\" class=\"data row0 col0\" >484</td>\n",
       "                        <td id=\"T_7eaab30a_a3a7_11ea_8d91_48bf6be0b4carow0_col1\" class=\"data row0 col1\" >84.03%</td>\n",
       "            </tr>\n",
       "            <tr>\n",
       "                        <th id=\"T_7eaab30a_a3a7_11ea_8d91_48bf6be0b4calevel0_row1\" class=\"row_heading level0 row1\" >Female</th>\n",
       "                        <td id=\"T_7eaab30a_a3a7_11ea_8d91_48bf6be0b4carow1_col0\" class=\"data row1 col0\" >81</td>\n",
       "                        <td id=\"T_7eaab30a_a3a7_11ea_8d91_48bf6be0b4carow1_col1\" class=\"data row1 col1\" >14.06%</td>\n",
       "            </tr>\n",
       "            <tr>\n",
       "                        <th id=\"T_7eaab30a_a3a7_11ea_8d91_48bf6be0b4calevel0_row2\" class=\"row_heading level0 row2\" >Other / Non-Disclosed</th>\n",
       "                        <td id=\"T_7eaab30a_a3a7_11ea_8d91_48bf6be0b4carow2_col0\" class=\"data row2 col0\" >11</td>\n",
       "                        <td id=\"T_7eaab30a_a3a7_11ea_8d91_48bf6be0b4carow2_col1\" class=\"data row2 col1\" >1.91%</td>\n",
       "            </tr>\n",
       "    </tbody></table>"
      ],
      "text/plain": [
       "<pandas.io.formats.style.Styler at 0x113c6f220>"
      ]
     },
     "execution_count": 14,
     "metadata": {},
     "output_type": "execute_result"
    }
   ],
   "source": [
    "\n",
    "data_frame_structure = {\n",
    "    'Gender' : ['Male', 'Female', 'Other / Non-Disclosed'],\n",
    "    'Total Count' : [count_unique_male_players, count_unique_female_players, count_unique_other_players],\n",
    "    'Percentage of Players' : [(count_unique_male_players/count_unique_users*100),\n",
    "                               (count_unique_female_players/count_unique_users*100),\n",
    "                               (count_unique_other_players/count_unique_users*100)\n",
    "                              ]\n",
    "}\n",
    "gender_demographics = pd.DataFrame(data=data_frame_structure)\n",
    "gender_demographics = gender_demographics.set_index('Gender')\n",
    "gender_demographics = gender_demographics.style.format({'Percentage of Players': \"{:.2f}%\"})\n",
    "gender_demographics\n"
   ]
  },
  {
   "cell_type": "markdown",
   "metadata": {},
   "source": [
    "\n",
    "## Purchasing Analysis (Gender)"
   ]
  },
  {
   "cell_type": "markdown",
   "metadata": {},
   "source": [
    "* Run basic calculations to obtain purchase count, avg. purchase price, avg. purchase total per person etc. by gender\n",
    "\n",
    "\n",
    "\n",
    "\n",
    "* Create a summary data frame to hold the results\n",
    "\n",
    "\n",
    "* Optional: give the displayed data cleaner formatting\n",
    "\n",
    "\n",
    "* Display the summary data frame"
   ]
  },
  {
   "cell_type": "code",
   "execution_count": 15,
   "metadata": {},
   "outputs": [
    {
     "data": {
      "text/plain": [
       "Gender\n",
       "Female                   113\n",
       "Male                     652\n",
       "Other / Non-Disclosed     15\n",
       "Name: Purchase ID, dtype: int64"
      ]
     },
     "execution_count": 15,
     "metadata": {},
     "output_type": "execute_result"
    }
   ],
   "source": [
    "gender_groups = purchases_data_df.groupby(['Gender'])\n",
    "number_of_purchases_by_gender = gender_groups['Purchase ID'].count()\n",
    "number_of_purchases_by_gender"
   ]
  },
  {
   "cell_type": "code",
   "execution_count": 16,
   "metadata": {},
   "outputs": [
    {
     "data": {
      "text/plain": [
       "Gender\n",
       "Female                   3.203009\n",
       "Male                     3.017853\n",
       "Other / Non-Disclosed    3.346000\n",
       "Name: Price, dtype: float64"
      ]
     },
     "execution_count": 16,
     "metadata": {},
     "output_type": "execute_result"
    }
   ],
   "source": [
    "average_purchase_price_by_gender = gender_groups['Price'].mean()\n",
    "average_purchase_price_by_gender"
   ]
  },
  {
   "cell_type": "code",
   "execution_count": 17,
   "metadata": {},
   "outputs": [
    {
     "data": {
      "text/plain": [
       "Gender\n",
       "Female                    361.94\n",
       "Male                     1967.64\n",
       "Other / Non-Disclosed      50.19\n",
       "dtype: float64"
      ]
     },
     "execution_count": 17,
     "metadata": {},
     "output_type": "execute_result"
    }
   ],
   "source": [
    "average_purchase_total_per_person = number_of_purchases_by_gender * average_purchase_price_by_gender\n",
    "average_purchase_total_per_person"
   ]
  },
  {
   "cell_type": "code",
   "execution_count": 18,
   "metadata": {},
   "outputs": [
    {
     "data": {
      "text/html": [
       "<style  type=\"text/css\" >\n",
       "</style><table id=\"T_96466cde_a3a7_11ea_8d91_48bf6be0b4ca\" ><thead>    <tr>        <th class=\"blank level0\" ></th>        <th class=\"col_heading level0 col0\" >Purchase Count</th>        <th class=\"col_heading level0 col1\" >Average Purchase Price</th>        <th class=\"col_heading level0 col2\" >Total Purchase Value</th>        <th class=\"col_heading level0 col3\" >Avg Total Purchase per Person</th>    </tr>    <tr>        <th class=\"index_name level0\" >Gender</th>        <th class=\"blank\" ></th>        <th class=\"blank\" ></th>        <th class=\"blank\" ></th>        <th class=\"blank\" ></th>    </tr></thead><tbody>\n",
       "                <tr>\n",
       "                        <th id=\"T_96466cde_a3a7_11ea_8d91_48bf6be0b4calevel0_row0\" class=\"row_heading level0 row0\" >Female</th>\n",
       "                        <td id=\"T_96466cde_a3a7_11ea_8d91_48bf6be0b4carow0_col0\" class=\"data row0 col0\" >113</td>\n",
       "                        <td id=\"T_96466cde_a3a7_11ea_8d91_48bf6be0b4carow0_col1\" class=\"data row0 col1\" >$3.20</td>\n",
       "                        <td id=\"T_96466cde_a3a7_11ea_8d91_48bf6be0b4carow0_col2\" class=\"data row0 col2\" >$361.94</td>\n",
       "                        <td id=\"T_96466cde_a3a7_11ea_8d91_48bf6be0b4carow0_col3\" class=\"data row0 col3\" >$0.00</td>\n",
       "            </tr>\n",
       "            <tr>\n",
       "                        <th id=\"T_96466cde_a3a7_11ea_8d91_48bf6be0b4calevel0_row1\" class=\"row_heading level0 row1\" >Male</th>\n",
       "                        <td id=\"T_96466cde_a3a7_11ea_8d91_48bf6be0b4carow1_col0\" class=\"data row1 col0\" >652</td>\n",
       "                        <td id=\"T_96466cde_a3a7_11ea_8d91_48bf6be0b4carow1_col1\" class=\"data row1 col1\" >$3.02</td>\n",
       "                        <td id=\"T_96466cde_a3a7_11ea_8d91_48bf6be0b4carow1_col2\" class=\"data row1 col2\" >$1967.64</td>\n",
       "                        <td id=\"T_96466cde_a3a7_11ea_8d91_48bf6be0b4carow1_col3\" class=\"data row1 col3\" >$0.00</td>\n",
       "            </tr>\n",
       "            <tr>\n",
       "                        <th id=\"T_96466cde_a3a7_11ea_8d91_48bf6be0b4calevel0_row2\" class=\"row_heading level0 row2\" >Other / Non-Disclosed</th>\n",
       "                        <td id=\"T_96466cde_a3a7_11ea_8d91_48bf6be0b4carow2_col0\" class=\"data row2 col0\" >15</td>\n",
       "                        <td id=\"T_96466cde_a3a7_11ea_8d91_48bf6be0b4carow2_col1\" class=\"data row2 col1\" >$3.35</td>\n",
       "                        <td id=\"T_96466cde_a3a7_11ea_8d91_48bf6be0b4carow2_col2\" class=\"data row2 col2\" >$50.19</td>\n",
       "                        <td id=\"T_96466cde_a3a7_11ea_8d91_48bf6be0b4carow2_col3\" class=\"data row2 col3\" >$0.00</td>\n",
       "            </tr>\n",
       "    </tbody></table>"
      ],
      "text/plain": [
       "<pandas.io.formats.style.Styler at 0x112b9d910>"
      ]
     },
     "execution_count": 18,
     "metadata": {},
     "output_type": "execute_result"
    }
   ],
   "source": [
    "purchasing_analysis_by_gender_df = pd.DataFrame()\n",
    "purchasing_analysis_by_gender_df['Purchase Count'] = number_of_purchases_by_gender\n",
    "purchasing_analysis_by_gender_df['Average Purchase Price'] = average_purchase_price_by_gender\n",
    "purchasing_analysis_by_gender_df['Total Purchase Value'] = average_purchase_total_per_person\n",
    "purchasing_analysis_by_gender_df['Avg Total Purchase per Person'] = 0\n",
    "purchasing_analysis_by_gender_df = purchasing_analysis_by_gender_df.style.format(\n",
    "    {\n",
    "        'Average Purchase Price': \"${:.2f}\",\n",
    "        'Total Purchase Value': \"${:.2f}\",\n",
    "        'Avg Total Purchase per Person': \"${:.2f}\"\n",
    "    }\n",
    ")\n",
    "purchasing_analysis_by_gender_df"
   ]
  },
  {
   "cell_type": "markdown",
   "metadata": {},
   "source": [
    "## Age Demographics"
   ]
  },
  {
   "cell_type": "markdown",
   "metadata": {},
   "source": [
    "* Establish bins for ages\n",
    "\n",
    "\n",
    "* Categorize the existing players using the age bins. Hint: use pd.cut()\n",
    "\n",
    "\n",
    "* Calculate the numbers and percentages by age group\n",
    "\n",
    "\n",
    "* Create a summary data frame to hold the results\n",
    "\n",
    "\n",
    "* Optional: round the percentage column to two decimal points\n",
    "\n",
    "\n",
    "* Display Age Demographics Table\n"
   ]
  },
  {
   "cell_type": "code",
   "execution_count": 19,
   "metadata": {},
   "outputs": [
    {
     "data": {
      "text/html": [
       "<style  type=\"text/css\" >\n",
       "</style><table id=\"T_9efbaff6_a3a7_11ea_8d91_48bf6be0b4ca\" ><thead>    <tr>        <th class=\"blank level0\" ></th>        <th class=\"col_heading level0 col0\" >Total Count</th>        <th class=\"col_heading level0 col1\" >Percentage of Players</th>    </tr>    <tr>        <th class=\"index_name level0\" >Age Ranges</th>        <th class=\"blank\" ></th>        <th class=\"blank\" ></th>    </tr></thead><tbody>\n",
       "                <tr>\n",
       "                        <th id=\"T_9efbaff6_a3a7_11ea_8d91_48bf6be0b4calevel0_row0\" class=\"row_heading level0 row0\" ><10</th>\n",
       "                        <td id=\"T_9efbaff6_a3a7_11ea_8d91_48bf6be0b4carow0_col0\" class=\"data row0 col0\" >17</td>\n",
       "                        <td id=\"T_9efbaff6_a3a7_11ea_8d91_48bf6be0b4carow0_col1\" class=\"data row0 col1\" >2.95%</td>\n",
       "            </tr>\n",
       "            <tr>\n",
       "                        <th id=\"T_9efbaff6_a3a7_11ea_8d91_48bf6be0b4calevel0_row1\" class=\"row_heading level0 row1\" >10-14</th>\n",
       "                        <td id=\"T_9efbaff6_a3a7_11ea_8d91_48bf6be0b4carow1_col0\" class=\"data row1 col0\" >22</td>\n",
       "                        <td id=\"T_9efbaff6_a3a7_11ea_8d91_48bf6be0b4carow1_col1\" class=\"data row1 col1\" >3.82%</td>\n",
       "            </tr>\n",
       "            <tr>\n",
       "                        <th id=\"T_9efbaff6_a3a7_11ea_8d91_48bf6be0b4calevel0_row2\" class=\"row_heading level0 row2\" >15-19</th>\n",
       "                        <td id=\"T_9efbaff6_a3a7_11ea_8d91_48bf6be0b4carow2_col0\" class=\"data row2 col0\" >107</td>\n",
       "                        <td id=\"T_9efbaff6_a3a7_11ea_8d91_48bf6be0b4carow2_col1\" class=\"data row2 col1\" >18.58%</td>\n",
       "            </tr>\n",
       "            <tr>\n",
       "                        <th id=\"T_9efbaff6_a3a7_11ea_8d91_48bf6be0b4calevel0_row3\" class=\"row_heading level0 row3\" >20-24</th>\n",
       "                        <td id=\"T_9efbaff6_a3a7_11ea_8d91_48bf6be0b4carow3_col0\" class=\"data row3 col0\" >258</td>\n",
       "                        <td id=\"T_9efbaff6_a3a7_11ea_8d91_48bf6be0b4carow3_col1\" class=\"data row3 col1\" >44.79%</td>\n",
       "            </tr>\n",
       "            <tr>\n",
       "                        <th id=\"T_9efbaff6_a3a7_11ea_8d91_48bf6be0b4calevel0_row4\" class=\"row_heading level0 row4\" >25-29</th>\n",
       "                        <td id=\"T_9efbaff6_a3a7_11ea_8d91_48bf6be0b4carow4_col0\" class=\"data row4 col0\" >77</td>\n",
       "                        <td id=\"T_9efbaff6_a3a7_11ea_8d91_48bf6be0b4carow4_col1\" class=\"data row4 col1\" >13.37%</td>\n",
       "            </tr>\n",
       "            <tr>\n",
       "                        <th id=\"T_9efbaff6_a3a7_11ea_8d91_48bf6be0b4calevel0_row5\" class=\"row_heading level0 row5\" >30-34</th>\n",
       "                        <td id=\"T_9efbaff6_a3a7_11ea_8d91_48bf6be0b4carow5_col0\" class=\"data row5 col0\" >52</td>\n",
       "                        <td id=\"T_9efbaff6_a3a7_11ea_8d91_48bf6be0b4carow5_col1\" class=\"data row5 col1\" >9.03%</td>\n",
       "            </tr>\n",
       "            <tr>\n",
       "                        <th id=\"T_9efbaff6_a3a7_11ea_8d91_48bf6be0b4calevel0_row6\" class=\"row_heading level0 row6\" >35-39</th>\n",
       "                        <td id=\"T_9efbaff6_a3a7_11ea_8d91_48bf6be0b4carow6_col0\" class=\"data row6 col0\" >31</td>\n",
       "                        <td id=\"T_9efbaff6_a3a7_11ea_8d91_48bf6be0b4carow6_col1\" class=\"data row6 col1\" >5.38%</td>\n",
       "            </tr>\n",
       "            <tr>\n",
       "                        <th id=\"T_9efbaff6_a3a7_11ea_8d91_48bf6be0b4calevel0_row7\" class=\"row_heading level0 row7\" >40+</th>\n",
       "                        <td id=\"T_9efbaff6_a3a7_11ea_8d91_48bf6be0b4carow7_col0\" class=\"data row7 col0\" >12</td>\n",
       "                        <td id=\"T_9efbaff6_a3a7_11ea_8d91_48bf6be0b4carow7_col1\" class=\"data row7 col1\" >2.08%</td>\n",
       "            </tr>\n",
       "    </tbody></table>"
      ],
      "text/plain": [
       "<pandas.io.formats.style.Styler at 0x113c6f760>"
      ]
     },
     "execution_count": 19,
     "metadata": {},
     "output_type": "execute_result"
    }
   ],
   "source": [
    "age_bins = [0, 9.9, 14, 19, 24, 29, 34, 39, 100]\n",
    "group_names = [\"<10\", \"10-14\", \"15-19\", \"20-24\", \"25-29\", \"30-34\", \"35-39\", \"40+\"]\n",
    "\n",
    "purchases_data_df['Age Ranges'] = pd.cut(purchases_data_df['Age'], age_bins, labels=group_names)\n",
    "\n",
    "removed_dupplicate_users = purchases_data_df.copy()\n",
    "removed_dupplicate_users = removed_dupplicate_users.sort_values('SN')\n",
    "removed_dupplicate_users = removed_dupplicate_users.drop_duplicates(subset = 'SN', keep = 'first')\n",
    "\n",
    "# removed_dupplicate_users[\"Age Ranges\"] = pd.cut(removed_dupplicate_users[\"Age\"], age_bins, labels=group_names)\n",
    "removed_dupplicate_users = removed_dupplicate_users[['Age Ranges','Age']]\n",
    "removed_dupplicate_users = removed_dupplicate_users.set_index('Age Ranges')\n",
    "\n",
    "age_demographics_df = removed_dupplicate_users.groupby(['Age Ranges']).count()\n",
    "age_demographics_df = age_demographics_df.rename(columns={'Age': 'Total Count'})\n",
    "age_demographics_df['Percentage of Players'] = age_demographics_df['Total Count']/age_demographics_df['Total Count'].sum()*100\n",
    "age_demographics_df = age_demographics_df.style.format({'Percentage of Players': \"{:.2f}%\"})\n",
    "age_demographics_df"
   ]
  },
  {
   "cell_type": "markdown",
   "metadata": {},
   "source": [
    "## Purchasing Analysis (Age)"
   ]
  },
  {
   "cell_type": "markdown",
   "metadata": {},
   "source": [
    "* Bin the purchase_data data frame by age\n",
    "\n",
    "\n",
    "* Run basic calculations to obtain purchase count, avg. purchase price, avg. purchase total per person etc. in the table below\n",
    "\n",
    "\n",
    "* Create a summary data frame to hold the results\n",
    "\n",
    "\n",
    "* Optional: give the displayed data cleaner formatting\n",
    "\n",
    "\n",
    "* Display the summary data frame"
   ]
  },
  {
   "cell_type": "code",
   "execution_count": 30,
   "metadata": {},
   "outputs": [
    {
     "data": {
      "text/html": [
       "<style  type=\"text/css\" >\n",
       "</style><table id=\"T_01e5916e_a3a7_11ea_954d_48bf6be0b4ca\" ><thead>    <tr>        <th class=\"blank level0\" ></th>        <th class=\"col_heading level0 col0\" >Purchase Count</th>        <th class=\"col_heading level0 col1\" >Average Purchase Price</th>        <th class=\"col_heading level0 col2\" >Total Purchase Value</th>        <th class=\"col_heading level0 col3\" >Avg Total Purchase per Person</th>    </tr>    <tr>        <th class=\"index_name level0\" >Age Ranges</th>        <th class=\"blank\" ></th>        <th class=\"blank\" ></th>        <th class=\"blank\" ></th>        <th class=\"blank\" ></th>    </tr></thead><tbody>\n",
       "                <tr>\n",
       "                        <th id=\"T_01e5916e_a3a7_11ea_954d_48bf6be0b4calevel0_row0\" class=\"row_heading level0 row0\" ><10</th>\n",
       "                        <td id=\"T_01e5916e_a3a7_11ea_954d_48bf6be0b4carow0_col0\" class=\"data row0 col0\" >23</td>\n",
       "                        <td id=\"T_01e5916e_a3a7_11ea_954d_48bf6be0b4carow0_col1\" class=\"data row0 col1\" >$3.35</td>\n",
       "                        <td id=\"T_01e5916e_a3a7_11ea_954d_48bf6be0b4carow0_col2\" class=\"data row0 col2\" >$77.13</td>\n",
       "                        <td id=\"T_01e5916e_a3a7_11ea_954d_48bf6be0b4carow0_col3\" class=\"data row0 col3\" >$0.00</td>\n",
       "            </tr>\n",
       "            <tr>\n",
       "                        <th id=\"T_01e5916e_a3a7_11ea_954d_48bf6be0b4calevel0_row1\" class=\"row_heading level0 row1\" >10-14</th>\n",
       "                        <td id=\"T_01e5916e_a3a7_11ea_954d_48bf6be0b4carow1_col0\" class=\"data row1 col0\" >28</td>\n",
       "                        <td id=\"T_01e5916e_a3a7_11ea_954d_48bf6be0b4carow1_col1\" class=\"data row1 col1\" >$2.96</td>\n",
       "                        <td id=\"T_01e5916e_a3a7_11ea_954d_48bf6be0b4carow1_col2\" class=\"data row1 col2\" >$82.78</td>\n",
       "                        <td id=\"T_01e5916e_a3a7_11ea_954d_48bf6be0b4carow1_col3\" class=\"data row1 col3\" >$0.00</td>\n",
       "            </tr>\n",
       "            <tr>\n",
       "                        <th id=\"T_01e5916e_a3a7_11ea_954d_48bf6be0b4calevel0_row2\" class=\"row_heading level0 row2\" >15-19</th>\n",
       "                        <td id=\"T_01e5916e_a3a7_11ea_954d_48bf6be0b4carow2_col0\" class=\"data row2 col0\" >136</td>\n",
       "                        <td id=\"T_01e5916e_a3a7_11ea_954d_48bf6be0b4carow2_col1\" class=\"data row2 col1\" >$3.04</td>\n",
       "                        <td id=\"T_01e5916e_a3a7_11ea_954d_48bf6be0b4carow2_col2\" class=\"data row2 col2\" >$412.89</td>\n",
       "                        <td id=\"T_01e5916e_a3a7_11ea_954d_48bf6be0b4carow2_col3\" class=\"data row2 col3\" >$0.00</td>\n",
       "            </tr>\n",
       "            <tr>\n",
       "                        <th id=\"T_01e5916e_a3a7_11ea_954d_48bf6be0b4calevel0_row3\" class=\"row_heading level0 row3\" >20-24</th>\n",
       "                        <td id=\"T_01e5916e_a3a7_11ea_954d_48bf6be0b4carow3_col0\" class=\"data row3 col0\" >365</td>\n",
       "                        <td id=\"T_01e5916e_a3a7_11ea_954d_48bf6be0b4carow3_col1\" class=\"data row3 col1\" >$3.05</td>\n",
       "                        <td id=\"T_01e5916e_a3a7_11ea_954d_48bf6be0b4carow3_col2\" class=\"data row3 col2\" >$1114.06</td>\n",
       "                        <td id=\"T_01e5916e_a3a7_11ea_954d_48bf6be0b4carow3_col3\" class=\"data row3 col3\" >$0.00</td>\n",
       "            </tr>\n",
       "            <tr>\n",
       "                        <th id=\"T_01e5916e_a3a7_11ea_954d_48bf6be0b4calevel0_row4\" class=\"row_heading level0 row4\" >25-29</th>\n",
       "                        <td id=\"T_01e5916e_a3a7_11ea_954d_48bf6be0b4carow4_col0\" class=\"data row4 col0\" >101</td>\n",
       "                        <td id=\"T_01e5916e_a3a7_11ea_954d_48bf6be0b4carow4_col1\" class=\"data row4 col1\" >$2.90</td>\n",
       "                        <td id=\"T_01e5916e_a3a7_11ea_954d_48bf6be0b4carow4_col2\" class=\"data row4 col2\" >$293.00</td>\n",
       "                        <td id=\"T_01e5916e_a3a7_11ea_954d_48bf6be0b4carow4_col3\" class=\"data row4 col3\" >$0.00</td>\n",
       "            </tr>\n",
       "            <tr>\n",
       "                        <th id=\"T_01e5916e_a3a7_11ea_954d_48bf6be0b4calevel0_row5\" class=\"row_heading level0 row5\" >30-34</th>\n",
       "                        <td id=\"T_01e5916e_a3a7_11ea_954d_48bf6be0b4carow5_col0\" class=\"data row5 col0\" >73</td>\n",
       "                        <td id=\"T_01e5916e_a3a7_11ea_954d_48bf6be0b4carow5_col1\" class=\"data row5 col1\" >$2.93</td>\n",
       "                        <td id=\"T_01e5916e_a3a7_11ea_954d_48bf6be0b4carow5_col2\" class=\"data row5 col2\" >$214.00</td>\n",
       "                        <td id=\"T_01e5916e_a3a7_11ea_954d_48bf6be0b4carow5_col3\" class=\"data row5 col3\" >$0.00</td>\n",
       "            </tr>\n",
       "            <tr>\n",
       "                        <th id=\"T_01e5916e_a3a7_11ea_954d_48bf6be0b4calevel0_row6\" class=\"row_heading level0 row6\" >35-39</th>\n",
       "                        <td id=\"T_01e5916e_a3a7_11ea_954d_48bf6be0b4carow6_col0\" class=\"data row6 col0\" >41</td>\n",
       "                        <td id=\"T_01e5916e_a3a7_11ea_954d_48bf6be0b4carow6_col1\" class=\"data row6 col1\" >$3.60</td>\n",
       "                        <td id=\"T_01e5916e_a3a7_11ea_954d_48bf6be0b4carow6_col2\" class=\"data row6 col2\" >$147.67</td>\n",
       "                        <td id=\"T_01e5916e_a3a7_11ea_954d_48bf6be0b4carow6_col3\" class=\"data row6 col3\" >$0.00</td>\n",
       "            </tr>\n",
       "            <tr>\n",
       "                        <th id=\"T_01e5916e_a3a7_11ea_954d_48bf6be0b4calevel0_row7\" class=\"row_heading level0 row7\" >40+</th>\n",
       "                        <td id=\"T_01e5916e_a3a7_11ea_954d_48bf6be0b4carow7_col0\" class=\"data row7 col0\" >13</td>\n",
       "                        <td id=\"T_01e5916e_a3a7_11ea_954d_48bf6be0b4carow7_col1\" class=\"data row7 col1\" >$2.94</td>\n",
       "                        <td id=\"T_01e5916e_a3a7_11ea_954d_48bf6be0b4carow7_col2\" class=\"data row7 col2\" >$38.24</td>\n",
       "                        <td id=\"T_01e5916e_a3a7_11ea_954d_48bf6be0b4carow7_col3\" class=\"data row7 col3\" >$0.00</td>\n",
       "            </tr>\n",
       "    </tbody></table>"
      ],
      "text/plain": [
       "<pandas.io.formats.style.Styler at 0x112711820>"
      ]
     },
     "execution_count": 30,
     "metadata": {},
     "output_type": "execute_result"
    }
   ],
   "source": [
    "binned_purchases_df = purchases_data_df.copy()\n",
    "binned_purchases_df['Age Ranges'] = pd.cut(binned_purchases_df[\"Age\"], age_bins, labels=group_names)\n",
    "\n",
    "purchasing_analysis_by_age = binned_purchases_df.groupby('Age Ranges').agg(\n",
    "    {\n",
    "        'Purchase ID' : 'count',\n",
    "        'Price' : 'mean',\n",
    "    }\n",
    ")\n",
    "purchasing_analysis_by_age = purchasing_analysis_by_age.rename(columns={\"Purchase ID\": \"Purchase Count\", \"Price\" : \"Average Purchase Price\"})\n",
    "purchasing_analysis_by_age['Total Purchase Value'] = purchasing_analysis_by_age['Purchase Count'] * purchasing_analysis_by_age['Average Purchase Price']\n",
    "purchasing_analysis_by_age['Avg Total Purchase per Person'] = 0\n",
    "purchasing_analysis_by_age = purchasing_analysis_by_age.style.format(\n",
    "    {\n",
    "        'Average Purchase Price': \"${:.2f}\",\n",
    "        'Total Purchase Value': \"${:.2f}\",\n",
    "        'Avg Total Purchase per Person': \"${:.2f}\"\n",
    "    }\n",
    ")\n",
    "\n",
    "purchasing_analysis_by_age"
   ]
  },
  {
   "cell_type": "markdown",
   "metadata": {},
   "source": [
    "## Top Spenders"
   ]
  },
  {
   "cell_type": "markdown",
   "metadata": {},
   "source": [
    "* Run basic calculations to obtain the results in the table below\n",
    "\n",
    "\n",
    "* Create a summary data frame to hold the results\n",
    "\n",
    "\n",
    "* Sort the total purchase value column in descending order\n",
    "\n",
    "\n",
    "* Optional: give the displayed data cleaner formatting\n",
    "\n",
    "\n",
    "* Display a preview of the summary data frame\n",
    "\n"
   ]
  },
  {
   "cell_type": "code",
   "execution_count": 8,
   "metadata": {},
   "outputs": [
    {
     "data": {
      "text/html": [
       "<div>\n",
       "<style scoped>\n",
       "    .dataframe tbody tr th:only-of-type {\n",
       "        vertical-align: middle;\n",
       "    }\n",
       "\n",
       "    .dataframe tbody tr th {\n",
       "        vertical-align: top;\n",
       "    }\n",
       "\n",
       "    .dataframe thead th {\n",
       "        text-align: right;\n",
       "    }\n",
       "</style>\n",
       "<table border=\"1\" class=\"dataframe\">\n",
       "  <thead>\n",
       "    <tr style=\"text-align: right;\">\n",
       "      <th></th>\n",
       "      <th>Purchase Count</th>\n",
       "      <th>Average Purchase Price</th>\n",
       "      <th>Total Purchase Value</th>\n",
       "    </tr>\n",
       "    <tr>\n",
       "      <th>SN</th>\n",
       "      <th></th>\n",
       "      <th></th>\n",
       "      <th></th>\n",
       "    </tr>\n",
       "  </thead>\n",
       "  <tbody>\n",
       "    <tr>\n",
       "      <th>Lisosia93</th>\n",
       "      <td>5</td>\n",
       "      <td>$3.79</td>\n",
       "      <td>$18.96</td>\n",
       "    </tr>\n",
       "    <tr>\n",
       "      <th>Idastidru52</th>\n",
       "      <td>4</td>\n",
       "      <td>$3.86</td>\n",
       "      <td>$15.45</td>\n",
       "    </tr>\n",
       "    <tr>\n",
       "      <th>Chamjask73</th>\n",
       "      <td>3</td>\n",
       "      <td>$4.61</td>\n",
       "      <td>$13.83</td>\n",
       "    </tr>\n",
       "    <tr>\n",
       "      <th>Iral74</th>\n",
       "      <td>4</td>\n",
       "      <td>$3.40</td>\n",
       "      <td>$13.62</td>\n",
       "    </tr>\n",
       "    <tr>\n",
       "      <th>Iskadarya95</th>\n",
       "      <td>3</td>\n",
       "      <td>$4.37</td>\n",
       "      <td>$13.10</td>\n",
       "    </tr>\n",
       "  </tbody>\n",
       "</table>\n",
       "</div>"
      ],
      "text/plain": [
       "             Purchase Count Average Purchase Price Total Purchase Value\n",
       "SN                                                                     \n",
       "Lisosia93                 5                  $3.79               $18.96\n",
       "Idastidru52               4                  $3.86               $15.45\n",
       "Chamjask73                3                  $4.61               $13.83\n",
       "Iral74                    4                  $3.40               $13.62\n",
       "Iskadarya95               3                  $4.37               $13.10"
      ]
     },
     "execution_count": 8,
     "metadata": {},
     "output_type": "execute_result"
    }
   ],
   "source": []
  },
  {
   "cell_type": "markdown",
   "metadata": {},
   "source": [
    "## Most Popular Items"
   ]
  },
  {
   "cell_type": "markdown",
   "metadata": {},
   "source": [
    "* Retrieve the Item ID, Item Name, and Item Price columns\n",
    "\n",
    "\n",
    "* Group by Item ID and Item Name. Perform calculations to obtain purchase count, item price, and total purchase value\n",
    "\n",
    "\n",
    "* Create a summary data frame to hold the results\n",
    "\n",
    "\n",
    "* Sort the purchase count column in descending order\n",
    "\n",
    "\n",
    "* Optional: give the displayed data cleaner formatting\n",
    "\n",
    "\n",
    "* Display a preview of the summary data frame\n",
    "\n"
   ]
  },
  {
   "cell_type": "code",
   "execution_count": 9,
   "metadata": {},
   "outputs": [
    {
     "data": {
      "text/html": [
       "<div>\n",
       "<style scoped>\n",
       "    .dataframe tbody tr th:only-of-type {\n",
       "        vertical-align: middle;\n",
       "    }\n",
       "\n",
       "    .dataframe tbody tr th {\n",
       "        vertical-align: top;\n",
       "    }\n",
       "\n",
       "    .dataframe thead th {\n",
       "        text-align: right;\n",
       "    }\n",
       "</style>\n",
       "<table border=\"1\" class=\"dataframe\">\n",
       "  <thead>\n",
       "    <tr style=\"text-align: right;\">\n",
       "      <th></th>\n",
       "      <th></th>\n",
       "      <th>Purchase Count</th>\n",
       "      <th>Item Price</th>\n",
       "      <th>Total Purchase Value</th>\n",
       "    </tr>\n",
       "    <tr>\n",
       "      <th>Item ID</th>\n",
       "      <th>Item Name</th>\n",
       "      <th></th>\n",
       "      <th></th>\n",
       "      <th></th>\n",
       "    </tr>\n",
       "  </thead>\n",
       "  <tbody>\n",
       "    <tr>\n",
       "      <th>92</th>\n",
       "      <th>Final Critic</th>\n",
       "      <td>13</td>\n",
       "      <td>$4.61</td>\n",
       "      <td>$59.99</td>\n",
       "    </tr>\n",
       "    <tr>\n",
       "      <th>178</th>\n",
       "      <th>Oathbreaker, Last Hope of the Breaking Storm</th>\n",
       "      <td>12</td>\n",
       "      <td>$4.23</td>\n",
       "      <td>$50.76</td>\n",
       "    </tr>\n",
       "    <tr>\n",
       "      <th>145</th>\n",
       "      <th>Fiery Glass Crusader</th>\n",
       "      <td>9</td>\n",
       "      <td>$4.58</td>\n",
       "      <td>$41.22</td>\n",
       "    </tr>\n",
       "    <tr>\n",
       "      <th>132</th>\n",
       "      <th>Persuasion</th>\n",
       "      <td>9</td>\n",
       "      <td>$3.22</td>\n",
       "      <td>$28.99</td>\n",
       "    </tr>\n",
       "    <tr>\n",
       "      <th>108</th>\n",
       "      <th>Extraction, Quickblade Of Trembling Hands</th>\n",
       "      <td>9</td>\n",
       "      <td>$3.53</td>\n",
       "      <td>$31.77</td>\n",
       "    </tr>\n",
       "  </tbody>\n",
       "</table>\n",
       "</div>"
      ],
      "text/plain": [
       "                                                     Purchase Count  \\\n",
       "Item ID Item Name                                                     \n",
       "92      Final Critic                                             13   \n",
       "178     Oathbreaker, Last Hope of the Breaking Storm             12   \n",
       "145     Fiery Glass Crusader                                      9   \n",
       "132     Persuasion                                                9   \n",
       "108     Extraction, Quickblade Of Trembling Hands                 9   \n",
       "\n",
       "                                                     Item Price  \\\n",
       "Item ID Item Name                                                 \n",
       "92      Final Critic                                      $4.61   \n",
       "178     Oathbreaker, Last Hope of the Breaking Storm      $4.23   \n",
       "145     Fiery Glass Crusader                              $4.58   \n",
       "132     Persuasion                                        $3.22   \n",
       "108     Extraction, Quickblade Of Trembling Hands         $3.53   \n",
       "\n",
       "                                                     Total Purchase Value  \n",
       "Item ID Item Name                                                          \n",
       "92      Final Critic                                               $59.99  \n",
       "178     Oathbreaker, Last Hope of the Breaking Storm               $50.76  \n",
       "145     Fiery Glass Crusader                                       $41.22  \n",
       "132     Persuasion                                                 $28.99  \n",
       "108     Extraction, Quickblade Of Trembling Hands                  $31.77  "
      ]
     },
     "execution_count": 9,
     "metadata": {},
     "output_type": "execute_result"
    }
   ],
   "source": []
  },
  {
   "cell_type": "markdown",
   "metadata": {},
   "source": [
    "## Most Profitable Items"
   ]
  },
  {
   "cell_type": "markdown",
   "metadata": {},
   "source": [
    "* Sort the above table by total purchase value in descending order\n",
    "\n",
    "\n",
    "* Optional: give the displayed data cleaner formatting\n",
    "\n",
    "\n",
    "* Display a preview of the data frame\n",
    "\n"
   ]
  },
  {
   "cell_type": "code",
   "execution_count": 10,
   "metadata": {
    "scrolled": true
   },
   "outputs": [
    {
     "data": {
      "text/html": [
       "<div>\n",
       "<style scoped>\n",
       "    .dataframe tbody tr th:only-of-type {\n",
       "        vertical-align: middle;\n",
       "    }\n",
       "\n",
       "    .dataframe tbody tr th {\n",
       "        vertical-align: top;\n",
       "    }\n",
       "\n",
       "    .dataframe thead th {\n",
       "        text-align: right;\n",
       "    }\n",
       "</style>\n",
       "<table border=\"1\" class=\"dataframe\">\n",
       "  <thead>\n",
       "    <tr style=\"text-align: right;\">\n",
       "      <th></th>\n",
       "      <th></th>\n",
       "      <th>Purchase Count</th>\n",
       "      <th>Item Price</th>\n",
       "      <th>Total Purchase Value</th>\n",
       "    </tr>\n",
       "    <tr>\n",
       "      <th>Item ID</th>\n",
       "      <th>Item Name</th>\n",
       "      <th></th>\n",
       "      <th></th>\n",
       "      <th></th>\n",
       "    </tr>\n",
       "  </thead>\n",
       "  <tbody>\n",
       "    <tr>\n",
       "      <th>92</th>\n",
       "      <th>Final Critic</th>\n",
       "      <td>13</td>\n",
       "      <td>$4.61</td>\n",
       "      <td>$59.99</td>\n",
       "    </tr>\n",
       "    <tr>\n",
       "      <th>178</th>\n",
       "      <th>Oathbreaker, Last Hope of the Breaking Storm</th>\n",
       "      <td>12</td>\n",
       "      <td>$4.23</td>\n",
       "      <td>$50.76</td>\n",
       "    </tr>\n",
       "    <tr>\n",
       "      <th>82</th>\n",
       "      <th>Nirvana</th>\n",
       "      <td>9</td>\n",
       "      <td>$4.90</td>\n",
       "      <td>$44.10</td>\n",
       "    </tr>\n",
       "    <tr>\n",
       "      <th>145</th>\n",
       "      <th>Fiery Glass Crusader</th>\n",
       "      <td>9</td>\n",
       "      <td>$4.58</td>\n",
       "      <td>$41.22</td>\n",
       "    </tr>\n",
       "    <tr>\n",
       "      <th>103</th>\n",
       "      <th>Singed Scalpel</th>\n",
       "      <td>8</td>\n",
       "      <td>$4.35</td>\n",
       "      <td>$34.80</td>\n",
       "    </tr>\n",
       "  </tbody>\n",
       "</table>\n",
       "</div>"
      ],
      "text/plain": [
       "                                                     Purchase Count  \\\n",
       "Item ID Item Name                                                     \n",
       "92      Final Critic                                             13   \n",
       "178     Oathbreaker, Last Hope of the Breaking Storm             12   \n",
       "82      Nirvana                                                   9   \n",
       "145     Fiery Glass Crusader                                      9   \n",
       "103     Singed Scalpel                                            8   \n",
       "\n",
       "                                                     Item Price  \\\n",
       "Item ID Item Name                                                 \n",
       "92      Final Critic                                      $4.61   \n",
       "178     Oathbreaker, Last Hope of the Breaking Storm      $4.23   \n",
       "82      Nirvana                                           $4.90   \n",
       "145     Fiery Glass Crusader                              $4.58   \n",
       "103     Singed Scalpel                                    $4.35   \n",
       "\n",
       "                                                     Total Purchase Value  \n",
       "Item ID Item Name                                                          \n",
       "92      Final Critic                                               $59.99  \n",
       "178     Oathbreaker, Last Hope of the Breaking Storm               $50.76  \n",
       "82      Nirvana                                                    $44.10  \n",
       "145     Fiery Glass Crusader                                       $41.22  \n",
       "103     Singed Scalpel                                             $34.80  "
      ]
     },
     "execution_count": 10,
     "metadata": {},
     "output_type": "execute_result"
    }
   ],
   "source": []
  }
 ],
 "metadata": {
  "anaconda-cloud": {},
  "kernel_info": {
   "name": "python3"
  },
  "kernelspec": {
   "display_name": "Python [conda env:PythonData] *",
   "language": "python",
   "name": "conda-env-PythonData-py"
  },
  "language_info": {
   "codemirror_mode": {
    "name": "ipython",
    "version": 3
   },
   "file_extension": ".py",
   "mimetype": "text/x-python",
   "name": "python",
   "nbconvert_exporter": "python",
   "pygments_lexer": "ipython3",
   "version": "3.8.2"
  },
  "latex_envs": {
   "LaTeX_envs_menu_present": true,
   "autoclose": false,
   "autocomplete": true,
   "bibliofile": "biblio.bib",
   "cite_by": "apalike",
   "current_citInitial": 1,
   "eqLabelWithNumbers": true,
   "eqNumInitial": 1,
   "hotkeys": {
    "equation": "Ctrl-E",
    "itemize": "Ctrl-I"
   },
   "labels_anchors": false,
   "latex_user_defs": false,
   "report_style_numbering": false,
   "user_envs_cfg": false
  },
  "nteract": {
   "version": "0.2.0"
  }
 },
 "nbformat": 4,
 "nbformat_minor": 2
}
