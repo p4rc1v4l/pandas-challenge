{
 "cells": [
  {
   "cell_type": "markdown",
   "metadata": {},
   "source": [
    "### Heroes Of Pymoli Data Analysis\n",
    "* Of the 1163 active players, the vast majority are male (84%). There also exists, a smaller, but notable proportion of female players (14%).\n",
    "\n",
    "* Our peak age demographic falls between 20-24 (44.8%) with secondary groups falling between 15-19 (18.60%) and 25-29 (13.4%).  \n",
    "-----"
   ]
  },
  {
   "cell_type": "markdown",
   "metadata": {},
   "source": [
    "### Note\n",
    "* Instructions have been included for each segment. You do not have to follow them exactly, but they are included to help you think through the steps."
   ]
  },
  {
   "cell_type": "code",
   "execution_count": 81,
   "metadata": {},
   "outputs": [],
   "source": [
    "# Dependencies and Setup\n",
    "import pandas as pd\n",
    "\n",
    "# File to Load (Remember to Change These)\n",
    "file_to_load = \"Resources/purchase_data.csv\"\n",
    "\n",
    "# Read Purchasing File and store into Pandas data frame\n",
    "purchases_data_df = pd.read_csv(file_to_load)"
   ]
  },
  {
   "cell_type": "markdown",
   "metadata": {},
   "source": [
    "## Player Count"
   ]
  },
  {
   "cell_type": "markdown",
   "metadata": {},
   "source": [
    "* Display the total number of players\n"
   ]
  },
  {
   "cell_type": "code",
   "execution_count": 82,
   "metadata": {},
   "outputs": [
    {
     "name": "stdout",
     "output_type": "stream",
     "text": [
      "Player Count: 576\n"
     ]
    }
   ],
   "source": [
    "unique_users_df = purchases_data_df['SN'].unique()\n",
    "count_unique_users = len(unique_users_df)\n",
    "print(f'Player Count: {count_unique_users}')"
   ]
  },
  {
   "cell_type": "markdown",
   "metadata": {},
   "source": [
    "## Purchasing Analysis (Total)"
   ]
  },
  {
   "cell_type": "markdown",
   "metadata": {},
   "source": [
    "* Run basic calculations to obtain number of unique items, average price, etc.\n",
    "\n",
    "\n",
    "* Create a summary data frame to hold the results\n",
    "\n",
    "\n",
    "* Optional: give the displayed data cleaner formatting\n",
    "\n",
    "\n",
    "* Display the summary data frame\n"
   ]
  },
  {
   "cell_type": "code",
   "execution_count": 83,
   "metadata": {},
   "outputs": [
    {
     "data": {
      "text/html": [
       "<style  type=\"text/css\" >\n",
       "</style><table id=\"T_83c607f6_a5c6_11ea_8315_48bf6be0b4ca\" ><thead>    <tr>        <th class=\"blank level0\" ></th>        <th class=\"col_heading level0 col0\" >Number of Unique Items</th>        <th class=\"col_heading level0 col1\" >Average Price</th>        <th class=\"col_heading level0 col2\" >Number of Purchases</th>        <th class=\"col_heading level0 col3\" >Total Revenue</th>    </tr></thead><tbody>\n",
       "                <tr>\n",
       "                        <th id=\"T_83c607f6_a5c6_11ea_8315_48bf6be0b4calevel0_row0\" class=\"row_heading level0 row0\" >0</th>\n",
       "                        <td id=\"T_83c607f6_a5c6_11ea_8315_48bf6be0b4carow0_col0\" class=\"data row0 col0\" >179</td>\n",
       "                        <td id=\"T_83c607f6_a5c6_11ea_8315_48bf6be0b4carow0_col1\" class=\"data row0 col1\" >$3.05</td>\n",
       "                        <td id=\"T_83c607f6_a5c6_11ea_8315_48bf6be0b4carow0_col2\" class=\"data row0 col2\" >780</td>\n",
       "                        <td id=\"T_83c607f6_a5c6_11ea_8315_48bf6be0b4carow0_col3\" class=\"data row0 col3\" >$2379.77</td>\n",
       "            </tr>\n",
       "    </tbody></table>"
      ],
      "text/plain": [
       "<pandas.io.formats.style.Styler at 0x11f9ddf10>"
      ]
     },
     "execution_count": 83,
     "metadata": {},
     "output_type": "execute_result"
    }
   ],
   "source": [
    "unique_items_df = purchases_data_df['Item ID'].unique()\n",
    "count_unique_items = len(unique_items_df)\n",
    "\n",
    "average_price = purchases_data_df['Price'].mean()\n",
    "\n",
    "number_of_purchases = len(purchases_data_df.index)\n",
    "\n",
    "total_revenue = number_of_purchases * average_price\n",
    "\n",
    "data_frame_structure = {'Number of Unique Items' : [count_unique_items], 'Average Price' : [average_price], 'Number of Purchases' : [number_of_purchases], 'Total Revenue' : [total_revenue]}\n",
    "purchasing_analysis_df = pd.DataFrame(data=data_frame_structure)\n",
    "purchasing_analysis_df = purchasing_analysis_df.style.format(\n",
    "    {\n",
    "        'Average Price': \"${:.2f}\",\n",
    "        'Total Revenue': '${:.2f}'\n",
    "    }\n",
    ")\n",
    "\n",
    "purchasing_analysis_df\n"
   ]
  },
  {
   "cell_type": "markdown",
   "metadata": {},
   "source": [
    "## Gender Demographics"
   ]
  },
  {
   "cell_type": "markdown",
   "metadata": {},
   "source": [
    "* Percentage and Count of Male Players\n",
    "\n",
    "\n",
    "* Percentage and Count of Female Players\n",
    "\n",
    "\n",
    "* Percentage and Count of Other / Non-Disclosed\n",
    "\n",
    "\n"
   ]
  },
  {
   "cell_type": "code",
   "execution_count": 84,
   "metadata": {},
   "outputs": [
    {
     "data": {
      "text/html": [
       "<style  type=\"text/css\" >\n",
       "</style><table id=\"T_843f03f4_a5c6_11ea_8315_48bf6be0b4ca\" ><thead>    <tr>        <th class=\"blank level0\" ></th>        <th class=\"col_heading level0 col0\" >Total Count</th>        <th class=\"col_heading level0 col1\" >Percentage of Players</th>    </tr>    <tr>        <th class=\"index_name level0\" >Gender</th>        <th class=\"blank\" ></th>        <th class=\"blank\" ></th>    </tr></thead><tbody>\n",
       "                <tr>\n",
       "                        <th id=\"T_843f03f4_a5c6_11ea_8315_48bf6be0b4calevel0_row0\" class=\"row_heading level0 row0\" >Male</th>\n",
       "                        <td id=\"T_843f03f4_a5c6_11ea_8315_48bf6be0b4carow0_col0\" class=\"data row0 col0\" >484</td>\n",
       "                        <td id=\"T_843f03f4_a5c6_11ea_8315_48bf6be0b4carow0_col1\" class=\"data row0 col1\" >84.03%</td>\n",
       "            </tr>\n",
       "            <tr>\n",
       "                        <th id=\"T_843f03f4_a5c6_11ea_8315_48bf6be0b4calevel0_row1\" class=\"row_heading level0 row1\" >Female</th>\n",
       "                        <td id=\"T_843f03f4_a5c6_11ea_8315_48bf6be0b4carow1_col0\" class=\"data row1 col0\" >81</td>\n",
       "                        <td id=\"T_843f03f4_a5c6_11ea_8315_48bf6be0b4carow1_col1\" class=\"data row1 col1\" >14.06%</td>\n",
       "            </tr>\n",
       "            <tr>\n",
       "                        <th id=\"T_843f03f4_a5c6_11ea_8315_48bf6be0b4calevel0_row2\" class=\"row_heading level0 row2\" >Other / Non-Disclosed</th>\n",
       "                        <td id=\"T_843f03f4_a5c6_11ea_8315_48bf6be0b4carow2_col0\" class=\"data row2 col0\" >11</td>\n",
       "                        <td id=\"T_843f03f4_a5c6_11ea_8315_48bf6be0b4carow2_col1\" class=\"data row2 col1\" >1.91%</td>\n",
       "            </tr>\n",
       "    </tbody></table>"
      ],
      "text/plain": [
       "<pandas.io.formats.style.Styler at 0x10e39b100>"
      ]
     },
     "execution_count": 84,
     "metadata": {},
     "output_type": "execute_result"
    }
   ],
   "source": [
    "male_players = purchases_data_df.loc[purchases_data_df['Gender'] == 'Male']\n",
    "unique_male_players = male_players['SN'].unique()\n",
    "count_unique_male_players = len(unique_male_players)\n",
    "\n",
    "female_players = purchases_data_df.loc[purchases_data_df['Gender'] == 'Female']\n",
    "unique_female_players = female_players['SN'].unique()\n",
    "count_unique_female_players = len(unique_female_players)\n",
    "\n",
    "other_conditonal = (purchases_data_df['Gender'] != 'Male') & (purchases_data_df['Gender'] != 'Female')\n",
    "other_players = purchases_data_df.loc[other_conditonal]\n",
    "unique_other_players = other_players['SN'].unique()\n",
    "count_unique_other_players = len(unique_other_players)\n",
    "\n",
    "data_frame_structure = {\n",
    "    'Gender' : ['Male', 'Female', 'Other / Non-Disclosed'],\n",
    "    'Total Count' : [count_unique_male_players, count_unique_female_players, count_unique_other_players],\n",
    "    'Percentage of Players' : [(count_unique_male_players/count_unique_users*100),\n",
    "                               (count_unique_female_players/count_unique_users*100),\n",
    "                               (count_unique_other_players/count_unique_users*100)\n",
    "                              ]\n",
    "}\n",
    "gender_demographics = pd.DataFrame(data=data_frame_structure)\n",
    "gender_demographics = gender_demographics.set_index('Gender')\n",
    "gender_demographics = gender_demographics.style.format({'Percentage of Players': \"{:.2f}%\"})\n",
    "\n",
    "gender_demographics\n"
   ]
  },
  {
   "cell_type": "markdown",
   "metadata": {},
   "source": [
    "\n",
    "## Purchasing Analysis (Gender)"
   ]
  },
  {
   "cell_type": "markdown",
   "metadata": {},
   "source": [
    "* Run basic calculations to obtain purchase count, avg. purchase price, avg. purchase total per person etc. by gender\n",
    "\n",
    "\n",
    "\n",
    "\n",
    "* Create a summary data frame to hold the results\n",
    "\n",
    "\n",
    "* Optional: give the displayed data cleaner formatting\n",
    "\n",
    "\n",
    "* Display the summary data frame"
   ]
  },
  {
   "cell_type": "code",
   "execution_count": 85,
   "metadata": {},
   "outputs": [
    {
     "data": {
      "text/html": [
       "<style  type=\"text/css\" >\n",
       "</style><table id=\"T_85035ad8_a5c6_11ea_8315_48bf6be0b4ca\" ><thead>    <tr>        <th class=\"blank level0\" ></th>        <th class=\"col_heading level0 col0\" >Purchase Count</th>        <th class=\"col_heading level0 col1\" >Average Purchase Price</th>        <th class=\"col_heading level0 col2\" >Total Purchase Value</th>        <th class=\"col_heading level0 col3\" >Avg Total Purchase per Person</th>    </tr>    <tr>        <th class=\"index_name level0\" >Gender</th>        <th class=\"blank\" ></th>        <th class=\"blank\" ></th>        <th class=\"blank\" ></th>        <th class=\"blank\" ></th>    </tr></thead><tbody>\n",
       "                <tr>\n",
       "                        <th id=\"T_85035ad8_a5c6_11ea_8315_48bf6be0b4calevel0_row0\" class=\"row_heading level0 row0\" >Female</th>\n",
       "                        <td id=\"T_85035ad8_a5c6_11ea_8315_48bf6be0b4carow0_col0\" class=\"data row0 col0\" >113</td>\n",
       "                        <td id=\"T_85035ad8_a5c6_11ea_8315_48bf6be0b4carow0_col1\" class=\"data row0 col1\" >$3.20</td>\n",
       "                        <td id=\"T_85035ad8_a5c6_11ea_8315_48bf6be0b4carow0_col2\" class=\"data row0 col2\" >$361.94</td>\n",
       "                        <td id=\"T_85035ad8_a5c6_11ea_8315_48bf6be0b4carow0_col3\" class=\"data row0 col3\" >$0.00</td>\n",
       "            </tr>\n",
       "            <tr>\n",
       "                        <th id=\"T_85035ad8_a5c6_11ea_8315_48bf6be0b4calevel0_row1\" class=\"row_heading level0 row1\" >Male</th>\n",
       "                        <td id=\"T_85035ad8_a5c6_11ea_8315_48bf6be0b4carow1_col0\" class=\"data row1 col0\" >652</td>\n",
       "                        <td id=\"T_85035ad8_a5c6_11ea_8315_48bf6be0b4carow1_col1\" class=\"data row1 col1\" >$3.02</td>\n",
       "                        <td id=\"T_85035ad8_a5c6_11ea_8315_48bf6be0b4carow1_col2\" class=\"data row1 col2\" >$1967.64</td>\n",
       "                        <td id=\"T_85035ad8_a5c6_11ea_8315_48bf6be0b4carow1_col3\" class=\"data row1 col3\" >$0.00</td>\n",
       "            </tr>\n",
       "            <tr>\n",
       "                        <th id=\"T_85035ad8_a5c6_11ea_8315_48bf6be0b4calevel0_row2\" class=\"row_heading level0 row2\" >Other / Non-Disclosed</th>\n",
       "                        <td id=\"T_85035ad8_a5c6_11ea_8315_48bf6be0b4carow2_col0\" class=\"data row2 col0\" >15</td>\n",
       "                        <td id=\"T_85035ad8_a5c6_11ea_8315_48bf6be0b4carow2_col1\" class=\"data row2 col1\" >$3.35</td>\n",
       "                        <td id=\"T_85035ad8_a5c6_11ea_8315_48bf6be0b4carow2_col2\" class=\"data row2 col2\" >$50.19</td>\n",
       "                        <td id=\"T_85035ad8_a5c6_11ea_8315_48bf6be0b4carow2_col3\" class=\"data row2 col3\" >$0.00</td>\n",
       "            </tr>\n",
       "    </tbody></table>"
      ],
      "text/plain": [
       "<pandas.io.formats.style.Styler at 0x10e39b790>"
      ]
     },
     "execution_count": 85,
     "metadata": {},
     "output_type": "execute_result"
    }
   ],
   "source": [
    "gender_groups = purchases_data_df.groupby(['Gender'])\n",
    "number_of_purchases_by_gender = gender_groups['Purchase ID'].count()\n",
    "\n",
    "average_purchase_price_by_gender = gender_groups['Price'].mean()\n",
    "\n",
    "average_purchase_total_per_person = number_of_purchases_by_gender * average_purchase_price_by_gender\n",
    "\n",
    "purchasing_analysis_by_gender_df = pd.DataFrame()\n",
    "purchasing_analysis_by_gender_df['Purchase Count'] = number_of_purchases_by_gender\n",
    "purchasing_analysis_by_gender_df['Average Purchase Price'] = average_purchase_price_by_gender\n",
    "purchasing_analysis_by_gender_df['Total Purchase Value'] = average_purchase_total_per_person\n",
    "purchasing_analysis_by_gender_df['Avg Total Purchase per Person'] = 0\n",
    "purchasing_analysis_by_gender_df = purchasing_analysis_by_gender_df.style.format(\n",
    "    {\n",
    "        'Average Purchase Price': \"${:.2f}\",\n",
    "        'Total Purchase Value': \"${:.2f}\",\n",
    "        'Avg Total Purchase per Person': \"${:.2f}\"\n",
    "    }\n",
    ")\n",
    "\n",
    "purchasing_analysis_by_gender_df\n"
   ]
  },
  {
   "cell_type": "markdown",
   "metadata": {},
   "source": [
    "## Age Demographics"
   ]
  },
  {
   "cell_type": "markdown",
   "metadata": {},
   "source": [
    "* Establish bins for ages\n",
    "\n",
    "\n",
    "* Categorize the existing players using the age bins. Hint: use pd.cut()\n",
    "\n",
    "\n",
    "* Calculate the numbers and percentages by age group\n",
    "\n",
    "\n",
    "* Create a summary data frame to hold the results\n",
    "\n",
    "\n",
    "* Optional: round the percentage column to two decimal points\n",
    "\n",
    "\n",
    "* Display Age Demographics Table\n"
   ]
  },
  {
   "cell_type": "code",
   "execution_count": 86,
   "metadata": {},
   "outputs": [
    {
     "data": {
      "text/html": [
       "<style  type=\"text/css\" >\n",
       "</style><table id=\"T_85e05d02_a5c6_11ea_8315_48bf6be0b4ca\" ><thead>    <tr>        <th class=\"blank level0\" ></th>        <th class=\"col_heading level0 col0\" >Total Count</th>        <th class=\"col_heading level0 col1\" >Percentage of Players</th>    </tr>    <tr>        <th class=\"index_name level0\" >Age Ranges</th>        <th class=\"blank\" ></th>        <th class=\"blank\" ></th>    </tr></thead><tbody>\n",
       "                <tr>\n",
       "                        <th id=\"T_85e05d02_a5c6_11ea_8315_48bf6be0b4calevel0_row0\" class=\"row_heading level0 row0\" ><10</th>\n",
       "                        <td id=\"T_85e05d02_a5c6_11ea_8315_48bf6be0b4carow0_col0\" class=\"data row0 col0\" >17</td>\n",
       "                        <td id=\"T_85e05d02_a5c6_11ea_8315_48bf6be0b4carow0_col1\" class=\"data row0 col1\" >2.95%</td>\n",
       "            </tr>\n",
       "            <tr>\n",
       "                        <th id=\"T_85e05d02_a5c6_11ea_8315_48bf6be0b4calevel0_row1\" class=\"row_heading level0 row1\" >10-14</th>\n",
       "                        <td id=\"T_85e05d02_a5c6_11ea_8315_48bf6be0b4carow1_col0\" class=\"data row1 col0\" >22</td>\n",
       "                        <td id=\"T_85e05d02_a5c6_11ea_8315_48bf6be0b4carow1_col1\" class=\"data row1 col1\" >3.82%</td>\n",
       "            </tr>\n",
       "            <tr>\n",
       "                        <th id=\"T_85e05d02_a5c6_11ea_8315_48bf6be0b4calevel0_row2\" class=\"row_heading level0 row2\" >15-19</th>\n",
       "                        <td id=\"T_85e05d02_a5c6_11ea_8315_48bf6be0b4carow2_col0\" class=\"data row2 col0\" >107</td>\n",
       "                        <td id=\"T_85e05d02_a5c6_11ea_8315_48bf6be0b4carow2_col1\" class=\"data row2 col1\" >18.58%</td>\n",
       "            </tr>\n",
       "            <tr>\n",
       "                        <th id=\"T_85e05d02_a5c6_11ea_8315_48bf6be0b4calevel0_row3\" class=\"row_heading level0 row3\" >20-24</th>\n",
       "                        <td id=\"T_85e05d02_a5c6_11ea_8315_48bf6be0b4carow3_col0\" class=\"data row3 col0\" >258</td>\n",
       "                        <td id=\"T_85e05d02_a5c6_11ea_8315_48bf6be0b4carow3_col1\" class=\"data row3 col1\" >44.79%</td>\n",
       "            </tr>\n",
       "            <tr>\n",
       "                        <th id=\"T_85e05d02_a5c6_11ea_8315_48bf6be0b4calevel0_row4\" class=\"row_heading level0 row4\" >25-29</th>\n",
       "                        <td id=\"T_85e05d02_a5c6_11ea_8315_48bf6be0b4carow4_col0\" class=\"data row4 col0\" >77</td>\n",
       "                        <td id=\"T_85e05d02_a5c6_11ea_8315_48bf6be0b4carow4_col1\" class=\"data row4 col1\" >13.37%</td>\n",
       "            </tr>\n",
       "            <tr>\n",
       "                        <th id=\"T_85e05d02_a5c6_11ea_8315_48bf6be0b4calevel0_row5\" class=\"row_heading level0 row5\" >30-34</th>\n",
       "                        <td id=\"T_85e05d02_a5c6_11ea_8315_48bf6be0b4carow5_col0\" class=\"data row5 col0\" >52</td>\n",
       "                        <td id=\"T_85e05d02_a5c6_11ea_8315_48bf6be0b4carow5_col1\" class=\"data row5 col1\" >9.03%</td>\n",
       "            </tr>\n",
       "            <tr>\n",
       "                        <th id=\"T_85e05d02_a5c6_11ea_8315_48bf6be0b4calevel0_row6\" class=\"row_heading level0 row6\" >35-39</th>\n",
       "                        <td id=\"T_85e05d02_a5c6_11ea_8315_48bf6be0b4carow6_col0\" class=\"data row6 col0\" >31</td>\n",
       "                        <td id=\"T_85e05d02_a5c6_11ea_8315_48bf6be0b4carow6_col1\" class=\"data row6 col1\" >5.38%</td>\n",
       "            </tr>\n",
       "            <tr>\n",
       "                        <th id=\"T_85e05d02_a5c6_11ea_8315_48bf6be0b4calevel0_row7\" class=\"row_heading level0 row7\" >40+</th>\n",
       "                        <td id=\"T_85e05d02_a5c6_11ea_8315_48bf6be0b4carow7_col0\" class=\"data row7 col0\" >12</td>\n",
       "                        <td id=\"T_85e05d02_a5c6_11ea_8315_48bf6be0b4carow7_col1\" class=\"data row7 col1\" >2.08%</td>\n",
       "            </tr>\n",
       "    </tbody></table>"
      ],
      "text/plain": [
       "<pandas.io.formats.style.Styler at 0x11e20dd00>"
      ]
     },
     "execution_count": 86,
     "metadata": {},
     "output_type": "execute_result"
    }
   ],
   "source": [
    "age_bins = [0, 9.9, 14, 19, 24, 29, 34, 39, 100]\n",
    "group_names = [\"<10\", \"10-14\", \"15-19\", \"20-24\", \"25-29\", \"30-34\", \"35-39\", \"40+\"]\n",
    "\n",
    "purchases_data_df['Age Ranges'] = pd.cut(purchases_data_df['Age'], age_bins, labels=group_names)\n",
    "\n",
    "removed_dupplicate_users = purchases_data_df.copy()\n",
    "removed_dupplicate_users = removed_dupplicate_users.sort_values('SN')\n",
    "removed_dupplicate_users = removed_dupplicate_users.drop_duplicates(subset = 'SN', keep = 'first')\n",
    "\n",
    "# removed_dupplicate_users[\"Age Ranges\"] = pd.cut(removed_dupplicate_users[\"Age\"], age_bins, labels=group_names)\n",
    "removed_dupplicate_users = removed_dupplicate_users[['Age Ranges','Age']]\n",
    "removed_dupplicate_users = removed_dupplicate_users.set_index('Age Ranges')\n",
    "\n",
    "age_demographics_df = removed_dupplicate_users.groupby(['Age Ranges']).count()\n",
    "age_demographics_df = age_demographics_df.rename(columns={'Age': 'Total Count'})\n",
    "age_demographics_df['Percentage of Players'] = age_demographics_df['Total Count']/age_demographics_df['Total Count'].sum()*100\n",
    "age_demographics_df = age_demographics_df.style.format({'Percentage of Players': \"{:.2f}%\"})\n",
    "\n",
    "age_demographics_df\n"
   ]
  },
  {
   "cell_type": "markdown",
   "metadata": {},
   "source": [
    "## Purchasing Analysis (Age)"
   ]
  },
  {
   "cell_type": "markdown",
   "metadata": {},
   "source": [
    "* Bin the purchase_data data frame by age\n",
    "\n",
    "\n",
    "* Run basic calculations to obtain purchase count, avg. purchase price, avg. purchase total per person etc. in the table below\n",
    "\n",
    "\n",
    "* Create a summary data frame to hold the results\n",
    "\n",
    "\n",
    "* Optional: give the displayed data cleaner formatting\n",
    "\n",
    "\n",
    "* Display the summary data frame"
   ]
  },
  {
   "cell_type": "code",
   "execution_count": 87,
   "metadata": {},
   "outputs": [
    {
     "data": {
      "text/html": [
       "<style  type=\"text/css\" >\n",
       "</style><table id=\"T_86dc4e46_a5c6_11ea_8315_48bf6be0b4ca\" ><thead>    <tr>        <th class=\"blank level0\" ></th>        <th class=\"col_heading level0 col0\" >Purchase Count</th>        <th class=\"col_heading level0 col1\" >Average Purchase Price</th>        <th class=\"col_heading level0 col2\" >Total Purchase Value</th>        <th class=\"col_heading level0 col3\" >Avg Total Purchase per Person</th>    </tr>    <tr>        <th class=\"index_name level0\" >Age Ranges</th>        <th class=\"blank\" ></th>        <th class=\"blank\" ></th>        <th class=\"blank\" ></th>        <th class=\"blank\" ></th>    </tr></thead><tbody>\n",
       "                <tr>\n",
       "                        <th id=\"T_86dc4e46_a5c6_11ea_8315_48bf6be0b4calevel0_row0\" class=\"row_heading level0 row0\" ><10</th>\n",
       "                        <td id=\"T_86dc4e46_a5c6_11ea_8315_48bf6be0b4carow0_col0\" class=\"data row0 col0\" >23</td>\n",
       "                        <td id=\"T_86dc4e46_a5c6_11ea_8315_48bf6be0b4carow0_col1\" class=\"data row0 col1\" >$3.35</td>\n",
       "                        <td id=\"T_86dc4e46_a5c6_11ea_8315_48bf6be0b4carow0_col2\" class=\"data row0 col2\" >$77.13</td>\n",
       "                        <td id=\"T_86dc4e46_a5c6_11ea_8315_48bf6be0b4carow0_col3\" class=\"data row0 col3\" >$0.00</td>\n",
       "            </tr>\n",
       "            <tr>\n",
       "                        <th id=\"T_86dc4e46_a5c6_11ea_8315_48bf6be0b4calevel0_row1\" class=\"row_heading level0 row1\" >10-14</th>\n",
       "                        <td id=\"T_86dc4e46_a5c6_11ea_8315_48bf6be0b4carow1_col0\" class=\"data row1 col0\" >28</td>\n",
       "                        <td id=\"T_86dc4e46_a5c6_11ea_8315_48bf6be0b4carow1_col1\" class=\"data row1 col1\" >$2.96</td>\n",
       "                        <td id=\"T_86dc4e46_a5c6_11ea_8315_48bf6be0b4carow1_col2\" class=\"data row1 col2\" >$82.78</td>\n",
       "                        <td id=\"T_86dc4e46_a5c6_11ea_8315_48bf6be0b4carow1_col3\" class=\"data row1 col3\" >$0.00</td>\n",
       "            </tr>\n",
       "            <tr>\n",
       "                        <th id=\"T_86dc4e46_a5c6_11ea_8315_48bf6be0b4calevel0_row2\" class=\"row_heading level0 row2\" >15-19</th>\n",
       "                        <td id=\"T_86dc4e46_a5c6_11ea_8315_48bf6be0b4carow2_col0\" class=\"data row2 col0\" >136</td>\n",
       "                        <td id=\"T_86dc4e46_a5c6_11ea_8315_48bf6be0b4carow2_col1\" class=\"data row2 col1\" >$3.04</td>\n",
       "                        <td id=\"T_86dc4e46_a5c6_11ea_8315_48bf6be0b4carow2_col2\" class=\"data row2 col2\" >$412.89</td>\n",
       "                        <td id=\"T_86dc4e46_a5c6_11ea_8315_48bf6be0b4carow2_col3\" class=\"data row2 col3\" >$0.00</td>\n",
       "            </tr>\n",
       "            <tr>\n",
       "                        <th id=\"T_86dc4e46_a5c6_11ea_8315_48bf6be0b4calevel0_row3\" class=\"row_heading level0 row3\" >20-24</th>\n",
       "                        <td id=\"T_86dc4e46_a5c6_11ea_8315_48bf6be0b4carow3_col0\" class=\"data row3 col0\" >365</td>\n",
       "                        <td id=\"T_86dc4e46_a5c6_11ea_8315_48bf6be0b4carow3_col1\" class=\"data row3 col1\" >$3.05</td>\n",
       "                        <td id=\"T_86dc4e46_a5c6_11ea_8315_48bf6be0b4carow3_col2\" class=\"data row3 col2\" >$1114.06</td>\n",
       "                        <td id=\"T_86dc4e46_a5c6_11ea_8315_48bf6be0b4carow3_col3\" class=\"data row3 col3\" >$0.00</td>\n",
       "            </tr>\n",
       "            <tr>\n",
       "                        <th id=\"T_86dc4e46_a5c6_11ea_8315_48bf6be0b4calevel0_row4\" class=\"row_heading level0 row4\" >25-29</th>\n",
       "                        <td id=\"T_86dc4e46_a5c6_11ea_8315_48bf6be0b4carow4_col0\" class=\"data row4 col0\" >101</td>\n",
       "                        <td id=\"T_86dc4e46_a5c6_11ea_8315_48bf6be0b4carow4_col1\" class=\"data row4 col1\" >$2.90</td>\n",
       "                        <td id=\"T_86dc4e46_a5c6_11ea_8315_48bf6be0b4carow4_col2\" class=\"data row4 col2\" >$293.00</td>\n",
       "                        <td id=\"T_86dc4e46_a5c6_11ea_8315_48bf6be0b4carow4_col3\" class=\"data row4 col3\" >$0.00</td>\n",
       "            </tr>\n",
       "            <tr>\n",
       "                        <th id=\"T_86dc4e46_a5c6_11ea_8315_48bf6be0b4calevel0_row5\" class=\"row_heading level0 row5\" >30-34</th>\n",
       "                        <td id=\"T_86dc4e46_a5c6_11ea_8315_48bf6be0b4carow5_col0\" class=\"data row5 col0\" >73</td>\n",
       "                        <td id=\"T_86dc4e46_a5c6_11ea_8315_48bf6be0b4carow5_col1\" class=\"data row5 col1\" >$2.93</td>\n",
       "                        <td id=\"T_86dc4e46_a5c6_11ea_8315_48bf6be0b4carow5_col2\" class=\"data row5 col2\" >$214.00</td>\n",
       "                        <td id=\"T_86dc4e46_a5c6_11ea_8315_48bf6be0b4carow5_col3\" class=\"data row5 col3\" >$0.00</td>\n",
       "            </tr>\n",
       "            <tr>\n",
       "                        <th id=\"T_86dc4e46_a5c6_11ea_8315_48bf6be0b4calevel0_row6\" class=\"row_heading level0 row6\" >35-39</th>\n",
       "                        <td id=\"T_86dc4e46_a5c6_11ea_8315_48bf6be0b4carow6_col0\" class=\"data row6 col0\" >41</td>\n",
       "                        <td id=\"T_86dc4e46_a5c6_11ea_8315_48bf6be0b4carow6_col1\" class=\"data row6 col1\" >$3.60</td>\n",
       "                        <td id=\"T_86dc4e46_a5c6_11ea_8315_48bf6be0b4carow6_col2\" class=\"data row6 col2\" >$147.67</td>\n",
       "                        <td id=\"T_86dc4e46_a5c6_11ea_8315_48bf6be0b4carow6_col3\" class=\"data row6 col3\" >$0.00</td>\n",
       "            </tr>\n",
       "            <tr>\n",
       "                        <th id=\"T_86dc4e46_a5c6_11ea_8315_48bf6be0b4calevel0_row7\" class=\"row_heading level0 row7\" >40+</th>\n",
       "                        <td id=\"T_86dc4e46_a5c6_11ea_8315_48bf6be0b4carow7_col0\" class=\"data row7 col0\" >13</td>\n",
       "                        <td id=\"T_86dc4e46_a5c6_11ea_8315_48bf6be0b4carow7_col1\" class=\"data row7 col1\" >$2.94</td>\n",
       "                        <td id=\"T_86dc4e46_a5c6_11ea_8315_48bf6be0b4carow7_col2\" class=\"data row7 col2\" >$38.24</td>\n",
       "                        <td id=\"T_86dc4e46_a5c6_11ea_8315_48bf6be0b4carow7_col3\" class=\"data row7 col3\" >$0.00</td>\n",
       "            </tr>\n",
       "    </tbody></table>"
      ],
      "text/plain": [
       "<pandas.io.formats.style.Styler at 0x10c6cf250>"
      ]
     },
     "execution_count": 87,
     "metadata": {},
     "output_type": "execute_result"
    }
   ],
   "source": [
    "purchasing_analysis_by_age = purchases_data_df.groupby('Age Ranges').agg(\n",
    "    {\n",
    "        'Purchase ID' : 'count',\n",
    "        'Price' : 'mean',\n",
    "    }\n",
    ")\n",
    "purchasing_analysis_by_age = purchasing_analysis_by_age.rename(columns={\"Purchase ID\": \"Purchase Count\", \"Price\" : \"Average Purchase Price\"})\n",
    "purchasing_analysis_by_age['Total Purchase Value'] = purchasing_analysis_by_age['Purchase Count'] * purchasing_analysis_by_age['Average Purchase Price']\n",
    "purchasing_analysis_by_age['Avg Total Purchase per Person'] = 0\n",
    "purchasing_analysis_by_age = purchasing_analysis_by_age.style.format(\n",
    "    {\n",
    "        'Average Purchase Price': \"${:.2f}\",\n",
    "        'Total Purchase Value': \"${:.2f}\",\n",
    "        'Avg Total Purchase per Person': \"${:.2f}\"\n",
    "    }\n",
    ")\n",
    "\n",
    "purchasing_analysis_by_age\n"
   ]
  },
  {
   "cell_type": "markdown",
   "metadata": {},
   "source": [
    "## Top Spenders"
   ]
  },
  {
   "cell_type": "markdown",
   "metadata": {},
   "source": [
    "* Run basic calculations to obtain the results in the table below\n",
    "\n",
    "\n",
    "* Create a summary data frame to hold the results\n",
    "\n",
    "\n",
    "* Sort the total purchase value column in descending order\n",
    "\n",
    "\n",
    "* Optional: give the displayed data cleaner formatting\n",
    "\n",
    "\n",
    "* Display a preview of the summary data frame\n",
    "\n"
   ]
  },
  {
   "cell_type": "code",
   "execution_count": 88,
   "metadata": {},
   "outputs": [
    {
     "data": {
      "text/html": [
       "<style  type=\"text/css\" >\n",
       "</style><table id=\"T_88db7d52_a5c6_11ea_8315_48bf6be0b4ca\" ><thead>    <tr>        <th class=\"blank level0\" ></th>        <th class=\"col_heading level0 col0\" >Purchase Count</th>        <th class=\"col_heading level0 col1\" >Average Purchase Price</th>        <th class=\"col_heading level0 col2\" >Total Purchase Value</th>    </tr>    <tr>        <th class=\"index_name level0\" >SN</th>        <th class=\"blank\" ></th>        <th class=\"blank\" ></th>        <th class=\"blank\" ></th>    </tr></thead><tbody>\n",
       "                <tr>\n",
       "                        <th id=\"T_88db7d52_a5c6_11ea_8315_48bf6be0b4calevel0_row0\" class=\"row_heading level0 row0\" >Lisosia93</th>\n",
       "                        <td id=\"T_88db7d52_a5c6_11ea_8315_48bf6be0b4carow0_col0\" class=\"data row0 col0\" >5</td>\n",
       "                        <td id=\"T_88db7d52_a5c6_11ea_8315_48bf6be0b4carow0_col1\" class=\"data row0 col1\" >$3.79</td>\n",
       "                        <td id=\"T_88db7d52_a5c6_11ea_8315_48bf6be0b4carow0_col2\" class=\"data row0 col2\" >$18.96</td>\n",
       "            </tr>\n",
       "            <tr>\n",
       "                        <th id=\"T_88db7d52_a5c6_11ea_8315_48bf6be0b4calevel0_row1\" class=\"row_heading level0 row1\" >Idastidru52</th>\n",
       "                        <td id=\"T_88db7d52_a5c6_11ea_8315_48bf6be0b4carow1_col0\" class=\"data row1 col0\" >4</td>\n",
       "                        <td id=\"T_88db7d52_a5c6_11ea_8315_48bf6be0b4carow1_col1\" class=\"data row1 col1\" >$3.86</td>\n",
       "                        <td id=\"T_88db7d52_a5c6_11ea_8315_48bf6be0b4carow1_col2\" class=\"data row1 col2\" >$15.45</td>\n",
       "            </tr>\n",
       "            <tr>\n",
       "                        <th id=\"T_88db7d52_a5c6_11ea_8315_48bf6be0b4calevel0_row2\" class=\"row_heading level0 row2\" >Chamjask73</th>\n",
       "                        <td id=\"T_88db7d52_a5c6_11ea_8315_48bf6be0b4carow2_col0\" class=\"data row2 col0\" >3</td>\n",
       "                        <td id=\"T_88db7d52_a5c6_11ea_8315_48bf6be0b4carow2_col1\" class=\"data row2 col1\" >$4.61</td>\n",
       "                        <td id=\"T_88db7d52_a5c6_11ea_8315_48bf6be0b4carow2_col2\" class=\"data row2 col2\" >$13.83</td>\n",
       "            </tr>\n",
       "            <tr>\n",
       "                        <th id=\"T_88db7d52_a5c6_11ea_8315_48bf6be0b4calevel0_row3\" class=\"row_heading level0 row3\" >Iral74</th>\n",
       "                        <td id=\"T_88db7d52_a5c6_11ea_8315_48bf6be0b4carow3_col0\" class=\"data row3 col0\" >4</td>\n",
       "                        <td id=\"T_88db7d52_a5c6_11ea_8315_48bf6be0b4carow3_col1\" class=\"data row3 col1\" >$3.40</td>\n",
       "                        <td id=\"T_88db7d52_a5c6_11ea_8315_48bf6be0b4carow3_col2\" class=\"data row3 col2\" >$13.62</td>\n",
       "            </tr>\n",
       "            <tr>\n",
       "                        <th id=\"T_88db7d52_a5c6_11ea_8315_48bf6be0b4calevel0_row4\" class=\"row_heading level0 row4\" >Iskadarya95</th>\n",
       "                        <td id=\"T_88db7d52_a5c6_11ea_8315_48bf6be0b4carow4_col0\" class=\"data row4 col0\" >3</td>\n",
       "                        <td id=\"T_88db7d52_a5c6_11ea_8315_48bf6be0b4carow4_col1\" class=\"data row4 col1\" >$4.37</td>\n",
       "                        <td id=\"T_88db7d52_a5c6_11ea_8315_48bf6be0b4carow4_col2\" class=\"data row4 col2\" >$13.10</td>\n",
       "            </tr>\n",
       "    </tbody></table>"
      ],
      "text/plain": [
       "<pandas.io.formats.style.Styler at 0x11f40a4c0>"
      ]
     },
     "execution_count": 88,
     "metadata": {},
     "output_type": "execute_result"
    }
   ],
   "source": [
    "top_spenders_df = purchases_data_df.groupby(['SN']).agg(\n",
    "    {\n",
    "        'Purchase ID' : 'count',\n",
    "        'Price' : 'mean'\n",
    "    }\n",
    ")\n",
    "top_spenders_df = top_spenders_df.rename(\n",
    "    columns = {\n",
    "        'Purchase ID' : 'Purchase Count',\n",
    "        'Price' : 'Average Purchase Price'\n",
    "    }\n",
    ")\n",
    "top_spenders_df['Total Purchase Value'] = top_spenders_df['Purchase Count'] * top_spenders_df['Average Purchase Price']\n",
    "top_spenders_df = top_spenders_df.sort_values(by=['Total Purchase Value'], ascending=False)\n",
    "top_spenders_df = top_spenders_df.iloc[0:5]\n",
    "top_spenders_df = top_spenders_df.style.format(\n",
    "    {\n",
    "        'Average Purchase Price': \"${:.2f}\",\n",
    "        'Total Purchase Value': \"${:.2f}\"\n",
    "    }\n",
    ")\n",
    "\n",
    "top_spenders_df\n"
   ]
  },
  {
   "cell_type": "markdown",
   "metadata": {},
   "source": [
    "## Most Popular Items"
   ]
  },
  {
   "cell_type": "markdown",
   "metadata": {},
   "source": [
    "* Retrieve the Item ID, Item Name, and Item Price columns\n",
    "\n",
    "\n",
    "* Group by Item ID and Item Name. Perform calculations to obtain purchase count, item price, and total purchase value\n",
    "\n",
    "\n",
    "* Create a summary data frame to hold the results\n",
    "\n",
    "\n",
    "* Sort the purchase count column in descending order\n",
    "\n",
    "\n",
    "* Optional: give the displayed data cleaner formatting\n",
    "\n",
    "\n",
    "* Display a preview of the summary data frame\n",
    "\n"
   ]
  },
  {
   "cell_type": "code",
   "execution_count": 134,
   "metadata": {},
   "outputs": [
    {
     "data": {
      "text/html": [
       "<style  type=\"text/css\" >\n",
       "</style><table id=\"T_aba21b72_a5ce_11ea_8315_48bf6be0b4ca\" ><thead>    <tr>        <th class=\"blank\" ></th>        <th class=\"blank level0\" ></th>        <th class=\"col_heading level0 col0\" >Purchase Count</th>        <th class=\"col_heading level0 col1\" >Item Price</th>        <th class=\"col_heading level0 col2\" >Total Purchase Value</th>    </tr>    <tr>        <th class=\"index_name level0\" >Item ID</th>        <th class=\"index_name level1\" >Item Name</th>        <th class=\"blank\" ></th>        <th class=\"blank\" ></th>        <th class=\"blank\" ></th>    </tr></thead><tbody>\n",
       "                <tr>\n",
       "                        <th id=\"T_aba21b72_a5ce_11ea_8315_48bf6be0b4calevel0_row0\" class=\"row_heading level0 row0\" >92</th>\n",
       "                        <th id=\"T_aba21b72_a5ce_11ea_8315_48bf6be0b4calevel1_row0\" class=\"row_heading level1 row0\" >Final Critic</th>\n",
       "                        <td id=\"T_aba21b72_a5ce_11ea_8315_48bf6be0b4carow0_col0\" class=\"data row0 col0\" >13</td>\n",
       "                        <td id=\"T_aba21b72_a5ce_11ea_8315_48bf6be0b4carow0_col1\" class=\"data row0 col1\" >$4.61</td>\n",
       "                        <td id=\"T_aba21b72_a5ce_11ea_8315_48bf6be0b4carow0_col2\" class=\"data row0 col2\" >$59.99</td>\n",
       "            </tr>\n",
       "            <tr>\n",
       "                        <th id=\"T_aba21b72_a5ce_11ea_8315_48bf6be0b4calevel0_row1\" class=\"row_heading level0 row1\" >178</th>\n",
       "                        <th id=\"T_aba21b72_a5ce_11ea_8315_48bf6be0b4calevel1_row1\" class=\"row_heading level1 row1\" >Oathbreaker, Last Hope of the Breaking Storm</th>\n",
       "                        <td id=\"T_aba21b72_a5ce_11ea_8315_48bf6be0b4carow1_col0\" class=\"data row1 col0\" >12</td>\n",
       "                        <td id=\"T_aba21b72_a5ce_11ea_8315_48bf6be0b4carow1_col1\" class=\"data row1 col1\" >$4.23</td>\n",
       "                        <td id=\"T_aba21b72_a5ce_11ea_8315_48bf6be0b4carow1_col2\" class=\"data row1 col2\" >$50.76</td>\n",
       "            </tr>\n",
       "            <tr>\n",
       "                        <th id=\"T_aba21b72_a5ce_11ea_8315_48bf6be0b4calevel0_row2\" class=\"row_heading level0 row2\" >145</th>\n",
       "                        <th id=\"T_aba21b72_a5ce_11ea_8315_48bf6be0b4calevel1_row2\" class=\"row_heading level1 row2\" >Fiery Glass Crusader</th>\n",
       "                        <td id=\"T_aba21b72_a5ce_11ea_8315_48bf6be0b4carow2_col0\" class=\"data row2 col0\" >9</td>\n",
       "                        <td id=\"T_aba21b72_a5ce_11ea_8315_48bf6be0b4carow2_col1\" class=\"data row2 col1\" >$4.58</td>\n",
       "                        <td id=\"T_aba21b72_a5ce_11ea_8315_48bf6be0b4carow2_col2\" class=\"data row2 col2\" >$41.22</td>\n",
       "            </tr>\n",
       "            <tr>\n",
       "                        <th id=\"T_aba21b72_a5ce_11ea_8315_48bf6be0b4calevel0_row3\" class=\"row_heading level0 row3\" >132</th>\n",
       "                        <th id=\"T_aba21b72_a5ce_11ea_8315_48bf6be0b4calevel1_row3\" class=\"row_heading level1 row3\" >Persuasion</th>\n",
       "                        <td id=\"T_aba21b72_a5ce_11ea_8315_48bf6be0b4carow3_col0\" class=\"data row3 col0\" >9</td>\n",
       "                        <td id=\"T_aba21b72_a5ce_11ea_8315_48bf6be0b4carow3_col1\" class=\"data row3 col1\" >$3.22</td>\n",
       "                        <td id=\"T_aba21b72_a5ce_11ea_8315_48bf6be0b4carow3_col2\" class=\"data row3 col2\" >$28.99</td>\n",
       "            </tr>\n",
       "            <tr>\n",
       "                        <th id=\"T_aba21b72_a5ce_11ea_8315_48bf6be0b4calevel0_row4\" class=\"row_heading level0 row4\" >108</th>\n",
       "                        <th id=\"T_aba21b72_a5ce_11ea_8315_48bf6be0b4calevel1_row4\" class=\"row_heading level1 row4\" >Extraction, Quickblade Of Trembling Hands</th>\n",
       "                        <td id=\"T_aba21b72_a5ce_11ea_8315_48bf6be0b4carow4_col0\" class=\"data row4 col0\" >9</td>\n",
       "                        <td id=\"T_aba21b72_a5ce_11ea_8315_48bf6be0b4carow4_col1\" class=\"data row4 col1\" >$3.53</td>\n",
       "                        <td id=\"T_aba21b72_a5ce_11ea_8315_48bf6be0b4carow4_col2\" class=\"data row4 col2\" >$31.77</td>\n",
       "            </tr>\n",
       "    </tbody></table>"
      ],
      "text/plain": [
       "<pandas.io.formats.style.Styler at 0x11f901040>"
      ]
     },
     "execution_count": 134,
     "metadata": {},
     "output_type": "execute_result"
    }
   ],
   "source": [
    "items_only_df = purchases_data_df[['Item ID','Item Name','Price']]\n",
    "items_only_df = items_only_df.groupby(['Item ID', 'Item Name']).agg({'Item ID': 'count', 'Price' : 'mean'})\n",
    "items_only_df = items_only_df.rename(columns={'Item ID': 'Purchase Count', 'Price': 'Item Price'})\n",
    "items_only_df['Total Purchase Value'] = items_only_df['Purchase Count'] * items_only_df['Item Price']\n",
    "\n",
    "most_popular_items_df = items_only_df.sort_values(by=['Purchase Count'], ascending=False)\n",
    "\n",
    "most_popular_items_df = most_popular_items_df.iloc[0:5]\n",
    "most_popular_items_df = most_popular_items_df.style.format(\n",
    "    {\n",
    "        'Item Price': \"${:.2f}\",\n",
    "        'Total Purchase Value': \"${:.2f}\"\n",
    "    }\n",
    ")\n",
    "\n",
    "most_popular_items_df\n"
   ]
  },
  {
   "cell_type": "markdown",
   "metadata": {},
   "source": [
    "## Most Profitable Items"
   ]
  },
  {
   "cell_type": "markdown",
   "metadata": {},
   "source": [
    "* Sort the above table by total purchase value in descending order\n",
    "\n",
    "\n",
    "* Optional: give the displayed data cleaner formatting\n",
    "\n",
    "\n",
    "* Display a preview of the data frame\n",
    "\n"
   ]
  },
  {
   "cell_type": "code",
   "execution_count": 135,
   "metadata": {
    "scrolled": true
   },
   "outputs": [
    {
     "data": {
      "text/html": [
       "<style  type=\"text/css\" >\n",
       "</style><table id=\"T_af76a66e_a5ce_11ea_8315_48bf6be0b4ca\" ><thead>    <tr>        <th class=\"blank\" ></th>        <th class=\"blank level0\" ></th>        <th class=\"col_heading level0 col0\" >Purchase Count</th>        <th class=\"col_heading level0 col1\" >Item Price</th>        <th class=\"col_heading level0 col2\" >Total Purchase Value</th>    </tr>    <tr>        <th class=\"index_name level0\" >Item ID</th>        <th class=\"index_name level1\" >Item Name</th>        <th class=\"blank\" ></th>        <th class=\"blank\" ></th>        <th class=\"blank\" ></th>    </tr></thead><tbody>\n",
       "                <tr>\n",
       "                        <th id=\"T_af76a66e_a5ce_11ea_8315_48bf6be0b4calevel0_row0\" class=\"row_heading level0 row0\" >92</th>\n",
       "                        <th id=\"T_af76a66e_a5ce_11ea_8315_48bf6be0b4calevel1_row0\" class=\"row_heading level1 row0\" >Final Critic</th>\n",
       "                        <td id=\"T_af76a66e_a5ce_11ea_8315_48bf6be0b4carow0_col0\" class=\"data row0 col0\" >13</td>\n",
       "                        <td id=\"T_af76a66e_a5ce_11ea_8315_48bf6be0b4carow0_col1\" class=\"data row0 col1\" >$4.61</td>\n",
       "                        <td id=\"T_af76a66e_a5ce_11ea_8315_48bf6be0b4carow0_col2\" class=\"data row0 col2\" >$59.99</td>\n",
       "            </tr>\n",
       "            <tr>\n",
       "                        <th id=\"T_af76a66e_a5ce_11ea_8315_48bf6be0b4calevel0_row1\" class=\"row_heading level0 row1\" >178</th>\n",
       "                        <th id=\"T_af76a66e_a5ce_11ea_8315_48bf6be0b4calevel1_row1\" class=\"row_heading level1 row1\" >Oathbreaker, Last Hope of the Breaking Storm</th>\n",
       "                        <td id=\"T_af76a66e_a5ce_11ea_8315_48bf6be0b4carow1_col0\" class=\"data row1 col0\" >12</td>\n",
       "                        <td id=\"T_af76a66e_a5ce_11ea_8315_48bf6be0b4carow1_col1\" class=\"data row1 col1\" >$4.23</td>\n",
       "                        <td id=\"T_af76a66e_a5ce_11ea_8315_48bf6be0b4carow1_col2\" class=\"data row1 col2\" >$50.76</td>\n",
       "            </tr>\n",
       "            <tr>\n",
       "                        <th id=\"T_af76a66e_a5ce_11ea_8315_48bf6be0b4calevel0_row2\" class=\"row_heading level0 row2\" >82</th>\n",
       "                        <th id=\"T_af76a66e_a5ce_11ea_8315_48bf6be0b4calevel1_row2\" class=\"row_heading level1 row2\" >Nirvana</th>\n",
       "                        <td id=\"T_af76a66e_a5ce_11ea_8315_48bf6be0b4carow2_col0\" class=\"data row2 col0\" >9</td>\n",
       "                        <td id=\"T_af76a66e_a5ce_11ea_8315_48bf6be0b4carow2_col1\" class=\"data row2 col1\" >$4.90</td>\n",
       "                        <td id=\"T_af76a66e_a5ce_11ea_8315_48bf6be0b4carow2_col2\" class=\"data row2 col2\" >$44.10</td>\n",
       "            </tr>\n",
       "            <tr>\n",
       "                        <th id=\"T_af76a66e_a5ce_11ea_8315_48bf6be0b4calevel0_row3\" class=\"row_heading level0 row3\" >145</th>\n",
       "                        <th id=\"T_af76a66e_a5ce_11ea_8315_48bf6be0b4calevel1_row3\" class=\"row_heading level1 row3\" >Fiery Glass Crusader</th>\n",
       "                        <td id=\"T_af76a66e_a5ce_11ea_8315_48bf6be0b4carow3_col0\" class=\"data row3 col0\" >9</td>\n",
       "                        <td id=\"T_af76a66e_a5ce_11ea_8315_48bf6be0b4carow3_col1\" class=\"data row3 col1\" >$4.58</td>\n",
       "                        <td id=\"T_af76a66e_a5ce_11ea_8315_48bf6be0b4carow3_col2\" class=\"data row3 col2\" >$41.22</td>\n",
       "            </tr>\n",
       "            <tr>\n",
       "                        <th id=\"T_af76a66e_a5ce_11ea_8315_48bf6be0b4calevel0_row4\" class=\"row_heading level0 row4\" >103</th>\n",
       "                        <th id=\"T_af76a66e_a5ce_11ea_8315_48bf6be0b4calevel1_row4\" class=\"row_heading level1 row4\" >Singed Scalpel</th>\n",
       "                        <td id=\"T_af76a66e_a5ce_11ea_8315_48bf6be0b4carow4_col0\" class=\"data row4 col0\" >8</td>\n",
       "                        <td id=\"T_af76a66e_a5ce_11ea_8315_48bf6be0b4carow4_col1\" class=\"data row4 col1\" >$4.35</td>\n",
       "                        <td id=\"T_af76a66e_a5ce_11ea_8315_48bf6be0b4carow4_col2\" class=\"data row4 col2\" >$34.80</td>\n",
       "            </tr>\n",
       "    </tbody></table>"
      ],
      "text/plain": [
       "<pandas.io.formats.style.Styler at 0x10c725c70>"
      ]
     },
     "execution_count": 135,
     "metadata": {},
     "output_type": "execute_result"
    }
   ],
   "source": [
    "most_profitable_items_df = items_only_df.sort_values(by=['Total Purchase Value'], ascending=False)\n",
    "\n",
    "most_profitable_items_df = most_profitable_items_df.iloc[0:5]\n",
    "most_profitable_items_df = most_profitable_items_df.style.format(\n",
    "    {\n",
    "        'Item Price': \"${:.2f}\",\n",
    "        'Total Purchase Value': \"${:.2f}\"\n",
    "    }\n",
    ")\n",
    "\n",
    "most_profitable_items_df"
   ]
  }
 ],
 "metadata": {
  "anaconda-cloud": {},
  "kernel_info": {
   "name": "python3"
  },
  "kernelspec": {
   "display_name": "Python [conda env:PythonData] *",
   "language": "python",
   "name": "conda-env-PythonData-py"
  },
  "language_info": {
   "codemirror_mode": {
    "name": "ipython",
    "version": 3
   },
   "file_extension": ".py",
   "mimetype": "text/x-python",
   "name": "python",
   "nbconvert_exporter": "python",
   "pygments_lexer": "ipython3",
   "version": "3.8.2"
  },
  "latex_envs": {
   "LaTeX_envs_menu_present": true,
   "autoclose": false,
   "autocomplete": true,
   "bibliofile": "biblio.bib",
   "cite_by": "apalike",
   "current_citInitial": 1,
   "eqLabelWithNumbers": true,
   "eqNumInitial": 1,
   "hotkeys": {
    "equation": "Ctrl-E",
    "itemize": "Ctrl-I"
   },
   "labels_anchors": false,
   "latex_user_defs": false,
   "report_style_numbering": false,
   "user_envs_cfg": false
  },
  "nteract": {
   "version": "0.2.0"
  }
 },
 "nbformat": 4,
 "nbformat_minor": 2
}
